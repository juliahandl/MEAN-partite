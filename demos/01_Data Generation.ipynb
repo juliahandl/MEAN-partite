{
 "cells": [
  {
   "cell_type": "markdown",
   "metadata": {},
   "source": [
    "# Data Generation examples\n",
    "- This notebook shows how to use this package, and more specifically part 1 (Data Generation)\n",
    "- Please check other notebooks for other parts (contestants and multi-criteria approach)"
   ]
  },
  {
   "cell_type": "markdown",
   "metadata": {},
   "source": [
    "## Data Generation\n",
    "- Generating data (graphs) following a set of parameters and displaying summaries"
   ]
  },
  {
   "cell_type": "code",
   "execution_count": 14,
   "metadata": {},
   "outputs": [
    {
     "name": "stdout",
     "output_type": "stream",
     "text": [
      "The autoreload extension is already loaded. To reload it, use:\n",
      "  %reload_ext autoreload\n"
     ]
    }
   ],
   "source": [
    "%load_ext autoreload\n",
    "%autoreload 2\n",
    "import igraph\n",
    "from moo.data_generation import ExpConfig, DataGenerator"
   ]
  },
  {
   "cell_type": "code",
   "execution_count": 15,
   "metadata": {},
   "outputs": [
    {
     "name": "stdout",
     "output_type": "stream",
     "text": [
      "<ExpConfig: L=100, U=500, NumNodes=600, NumEdges=1000, ML=0.4, MU=0.4, BC=0.1, NumGraphs=30, shuffle=True, seed=42>\n"
     ]
    }
   ],
   "source": [
    "# Define an experiment configuration instance (parameters for data generation)\n",
    "expconfig = ExpConfig(\n",
    "    L=100, U=500,\n",
    "    NumEdges=1000, ML=0.4, MU=0.4,\n",
    "    BC=0.1, NumGraphs=30,\n",
    "    shuffle=True, # Shuffle labels (or no)\n",
    "    seed=None # For reproducibility (this is the default, but can be changed)\n",
    "    )\n",
    "print(expconfig) # Print parameters, or access individually, e.g., expconfig.NumEdges"
   ]
  },
  {
   "cell_type": "code",
   "execution_count": 16,
   "metadata": {},
   "outputs": [
    {
     "name": "stdout",
     "output_type": "stream",
     "text": [
      "<DataGenerator: ExpConfig: L=100, U=500, NumNodes=600, NumEdges=1000, ML=0.4, MU=0.4, BC=0.1, NumGraphs=30, shuffle=True, seed=42>\n"
     ]
    }
   ],
   "source": [
    "# Generate data following the defined experiment confguration\n",
    "expgen = DataGenerator(expconfig=expconfig) # Pass defined parameters\n",
    "print(expgen)\n",
    "datagen = expgen.generate_data() # datagen is an iterator"
   ]
  },
  {
   "cell_type": "code",
   "execution_count": 17,
   "metadata": {},
   "outputs": [
    {
     "name": "stdout",
     "output_type": "stream",
     "text": [
      "\n",
      "Graph 1 out of f30\n",
      "IGRAPH U--T 534 1000 -- \n",
      "+ attr: GT (v), VX (v), type (v)\n",
      "\n",
      "Graph 2 out of f30\n",
      "IGRAPH U--T 520 1000 -- \n",
      "+ attr: GT (v), VX (v), type (v)\n",
      "\n",
      "Graph 3 out of f30\n",
      "IGRAPH U--T 518 1000 -- \n",
      "+ attr: GT (v), VX (v), type (v)\n",
      "\n",
      "Graph 4 out of f30\n",
      "IGRAPH U--T 524 1000 -- \n",
      "+ attr: GT (v), VX (v), type (v)\n",
      "\n",
      "Graph 5 out of f30\n",
      "IGRAPH U--T 528 1000 -- \n",
      "+ attr: GT (v), VX (v), type (v)\n",
      "\n",
      "Graph 6 out of f30\n",
      "IGRAPH U--T 529 1000 -- \n",
      "+ attr: GT (v), VX (v), type (v)\n",
      "\n",
      "Graph 7 out of f30\n",
      "IGRAPH U--T 522 1000 -- \n",
      "+ attr: GT (v), VX (v), type (v)\n",
      "\n",
      "Graph 8 out of f30\n",
      "IGRAPH U--T 525 1000 -- \n",
      "+ attr: GT (v), VX (v), type (v)\n",
      "\n",
      "Graph 9 out of f30\n",
      "IGRAPH U--T 531 1000 -- \n",
      "+ attr: GT (v), VX (v), type (v)\n",
      "\n",
      "Graph 10 out of f30\n",
      "IGRAPH U--T 519 1000 -- \n",
      "+ attr: GT (v), VX (v), type (v)\n",
      "\n",
      "Graph 11 out of f30\n",
      "IGRAPH U--T 523 1000 -- \n",
      "+ attr: GT (v), VX (v), type (v)\n",
      "\n",
      "Graph 12 out of f30\n",
      "IGRAPH U--T 530 1000 -- \n",
      "+ attr: GT (v), VX (v), type (v)\n",
      "\n",
      "Graph 13 out of f30\n",
      "IGRAPH U--T 537 1000 -- \n",
      "+ attr: GT (v), VX (v), type (v)\n",
      "\n",
      "Graph 14 out of f30\n",
      "IGRAPH U--T 536 1000 -- \n",
      "+ attr: GT (v), VX (v), type (v)\n",
      "\n",
      "Graph 15 out of f30\n",
      "IGRAPH U--T 532 1000 -- \n",
      "+ attr: GT (v), VX (v), type (v)\n",
      "\n",
      "Graph 16 out of f30\n",
      "IGRAPH U--T 526 1000 -- \n",
      "+ attr: GT (v), VX (v), type (v)\n",
      "\n",
      "Graph 17 out of f30\n",
      "IGRAPH U--T 520 1000 -- \n",
      "+ attr: GT (v), VX (v), type (v)\n",
      "\n",
      "Graph 18 out of f30\n",
      "IGRAPH U--T 522 1000 -- \n",
      "+ attr: GT (v), VX (v), type (v)\n",
      "\n",
      "Graph 19 out of f30\n",
      "IGRAPH U--T 516 1000 -- \n",
      "+ attr: GT (v), VX (v), type (v)\n",
      "\n",
      "Graph 20 out of f30\n",
      "IGRAPH U--T 519 1000 -- \n",
      "+ attr: GT (v), VX (v), type (v)\n",
      "\n",
      "Graph 21 out of f30\n",
      "IGRAPH U--T 520 1000 -- \n",
      "+ attr: GT (v), VX (v), type (v)\n",
      "\n",
      "Graph 22 out of f30\n",
      "IGRAPH U--T 530 1000 -- \n",
      "+ attr: GT (v), VX (v), type (v)\n",
      "\n",
      "Graph 23 out of f30\n",
      "IGRAPH U--T 515 1000 -- \n",
      "+ attr: GT (v), VX (v), type (v)\n",
      "\n",
      "Graph 24 out of f30\n",
      "IGRAPH U--T 530 1000 -- \n",
      "+ attr: GT (v), VX (v), type (v)\n",
      "\n",
      "Graph 25 out of f30\n",
      "IGRAPH U--T 525 1000 -- \n",
      "+ attr: GT (v), VX (v), type (v)\n",
      "\n",
      "Graph 26 out of f30\n",
      "IGRAPH U--T 525 1000 -- \n",
      "+ attr: GT (v), VX (v), type (v)\n",
      "\n",
      "Graph 27 out of f30\n",
      "IGRAPH U--T 525 1000 -- \n",
      "+ attr: GT (v), VX (v), type (v)\n",
      "\n",
      "Graph 28 out of f30\n",
      "IGRAPH U--T 524 1000 -- \n",
      "+ attr: GT (v), VX (v), type (v)\n",
      "\n",
      "Graph 29 out of f30\n",
      "IGRAPH U--T 524 1000 -- \n",
      "+ attr: GT (v), VX (v), type (v)\n",
      "\n",
      "Graph 30 out of f30\n",
      "IGRAPH U--T 526 1000 -- \n",
      "+ attr: GT (v), VX (v), type (v)\n"
     ]
    }
   ],
   "source": [
    "# Iterate through the generates data (graphs)\n",
    "# Possible usages include saving to disk, visualizing, feeding to downstream steps, etc.\n",
    "for idx, graph in enumerate(datagen):\n",
    "    # Save graphs, visualize, etc.\n",
    "    # Here, I print the graph summary\n",
    "    print(f'\\nGraph {idx+1} out of f{expconfig.NumGraphs}')\n",
    "    igraph.summary(graph)"
   ]
  },
  {
   "cell_type": "markdown",
   "metadata": {},
   "source": [
    "## Fig. 6 data generation and saving in legacy format\n",
    "- This shows how to generate graphs using the new code, but saving in the legacy format (for debugging purposes)\n",
    "- Please refer to the utils module for saving/loading graphs functionality allowing to link the legacy code with the new code in terms of formatting data accordingly"
   ]
  },
  {
   "cell_type": "code",
   "execution_count": 18,
   "metadata": {},
   "outputs": [
    {
     "name": "stdout",
     "output_type": "stream",
     "text": [
      "<ExpConfig: L=30, U=30, NumNodes=60, NumEdges=100, ML=0.5, MU=0.5, BC=0.1, NumGraphs=100, shuffle=True, seed=42>\n",
      "<DataGenerator: ExpConfig: L=30, U=30, NumNodes=60, NumEdges=100, ML=0.5, MU=0.5, BC=0.1, NumGraphs=100, shuffle=True, seed=42>\n"
     ]
    }
   ],
   "source": [
    "# Save data in the old format\n",
    "# Define an experiment configuration instance (parameters for data generation)\n",
    "# Fig. 6 (see paper)\n",
    "expconfig = ExpConfig(\n",
    "    L=30, U=30, NumEdges=100, ML=0.5, MU=0.5, BC=0.1, NumGraphs=100, # 30 graphs in the paper\n",
    "    shuffle=True, seed=42\n",
    ")\n",
    "print(expconfig) # Print parameters, or access individually, e.g., expconfig.NumEdges\n",
    "\n",
    "# Generate data following the defined experiment confguration\n",
    "expgen = DataGenerator(expconfig=expconfig) # Pass defined parameters\n",
    "print(expgen)\n",
    "datagen = expgen.generate_data() # datagen is an iterator\n",
    "\n",
    "import os\n",
    "from moo.utils import save_graphs_to_path\n",
    "path = \"./_temp/data_2_shuffled_fig06/\"\n",
    "os.makedirs(path, exist_ok=True)\n",
    "save_graphs_to_path(path, datagen)"
   ]
  },
  {
   "cell_type": "code",
   "execution_count": 19,
   "metadata": {},
   "outputs": [
    {
     "name": "stdout",
     "output_type": "stream",
     "text": [
      "<ExpConfig: L=30, U=30, NumNodes=60, NumEdges=100, ML=0.5, MU=0.5, BC=0.1, NumGraphs=100, shuffle=False, seed=42>\n",
      "<DataGenerator: ExpConfig: L=30, U=30, NumNodes=60, NumEdges=100, ML=0.5, MU=0.5, BC=0.1, NumGraphs=100, shuffle=False, seed=42>\n"
     ]
    }
   ],
   "source": [
    "# Save data in the old format\n",
    "# Fig. 6 (see paper)\n",
    "expconfig = ExpConfig(\n",
    "    L=30, U=30, NumEdges=100, ML=0.5, MU=0.5, BC=0.1, NumGraphs=100, # 30 graphs in the paper\n",
    "    shuffle=False, seed=42\n",
    ")\n",
    "print(expconfig) # Print parameters, or access individually, e.g., expconfig.NumEdges\n",
    "\n",
    "# Generate data following the defined experiment confguration\n",
    "expgen = DataGenerator(expconfig=expconfig) # Pass defined parameters\n",
    "print(expgen)\n",
    "datagen = expgen.generate_data() # datagen is an iterator\n",
    "\n",
    "from moo.utils import save_graphs_to_path\n",
    "path = \"./_temp/data_1_nonshuffled_fig06/\"\n",
    "os.makedirs(path, exist_ok=True)\n",
    "save_graphs_to_path(path, datagen)"
   ]
  },
  {
   "cell_type": "markdown",
   "metadata": {},
   "source": [
    "## Using 3rd party bipartite graphs and groundtruth\n",
    "- The following code is for users who have bipartite graphs in igraph format but the ground truth is provided separateley\n",
    "- It shows how to augment the graph strcture with the ground truth in order to use it with the contestant or the multicriteria approaches"
   ]
  },
  {
   "cell_type": "code",
   "execution_count": 20,
   "metadata": {},
   "outputs": [
    {
     "name": "stdout",
     "output_type": "stream",
     "text": [
      "IGRAPH U--T 55 100 -- \n",
      "+ attr: GT (v), VX (v), type (v)\n"
     ]
    }
   ],
   "source": [
    "# For simplicity, lets use the current package to generate a bipartite graph, then remove the embedded ground truth to simulate a typical graph that a user may provide\n",
    "# Fig. 6 (see paper)\n",
    "import igraph\n",
    "from moo.data_generation import ExpConfig, DataGenerator\n",
    "expconfig = ExpConfig(L=30, U=30, NumEdges=100, ML=0.5, MU=0.5, BC=0.1, NumGraphs=1, # 30 graphs in the paper\n",
    "    shuffle=False, seed=42\n",
    ")\n",
    "expgen = DataGenerator(expconfig=expconfig) # Pass defined parameters\n",
    "datagen = expgen.generate_data() # datagen is an iterator\n",
    "graph = next(datagen)\n",
    "igraph.summary(graph)\n",
    "\n",
    "\n"
   ]
  },
  {
   "cell_type": "code",
   "execution_count": 21,
   "metadata": {},
   "outputs": [
    {
     "name": "stdout",
     "output_type": "stream",
     "text": [
      "IGRAPH U--T 55 100 -- \n",
      "+ attr: VX (v), type (v)\n"
     ]
    }
   ],
   "source": [
    "# The above graph has the ground truth embedded\n",
    "# Let's strip the ground truth (this does it in place)\n",
    "from moo.utils import strip_groundtruth\n",
    "strip_groundtruth(graph, 'GT') # The ground truth is encoded as the'GT' attribute)\n",
    "igraph.summary(graph)\n"
   ]
  },
  {
   "cell_type": "code",
   "execution_count": 22,
   "metadata": {},
   "outputs": [
    {
     "data": {
      "text/plain": [
       "array([0, 0, 1, 0, 0, 0, 0, 1, 0, 1, 0, 0, 0, 0, 1, 1, 1, 0, 0, 1, 1, 1,\n",
       "       1, 1, 0, 1, 1, 1, 1, 1, 0, 0, 0, 1, 0, 1, 0, 1, 0, 1, 1, 0, 1, 0,\n",
       "       1, 0, 0, 0, 0, 0, 1, 0, 0, 0, 0])"
      ]
     },
     "execution_count": 22,
     "metadata": {},
     "output_type": "execute_result"
    }
   ],
   "source": [
    "# It can be seen that the graph has no ground truth\n",
    "# Now, let's create a random ground truth vector and embed it into the graph\n",
    "import numpy as np\n",
    "gt = np.random.choice([0,1], size=len(graph.vs))\n",
    "gt"
   ]
  },
  {
   "cell_type": "code",
   "execution_count": 23,
   "metadata": {},
   "outputs": [
    {
     "name": "stdout",
     "output_type": "stream",
     "text": [
      "IGRAPH U--T 55 100 -- \n",
      "+ attr: GT (v), VX (v), type (v)\n"
     ]
    }
   ],
   "source": [
    "# Embed the groundtruth into the graph\n",
    "graph.vs['GT'] = gt\n",
    "igraph.summary(graph)"
   ]
  },
  {
   "cell_type": "code",
   "execution_count": 24,
   "metadata": {},
   "outputs": [],
   "source": [
    "# The graph can now be used as input to any contestant approach and also to the multi-criteria approach, as the groundtruth allows to generate performance metrics"
   ]
  },
  {
   "cell_type": "code",
   "execution_count": null,
   "metadata": {},
   "outputs": [],
   "source": []
  }
 ],
 "metadata": {
  "interpreter": {
   "hash": "4010bed1fcb0862f42163a0bc1f27209410c0108b991885a63b56f46dfb0bc2b"
  },
  "kernelspec": {
   "display_name": "Python 3.8.5 64-bit (system)",
   "language": "python",
   "name": "python3"
  },
  "language_info": {
   "codemirror_mode": {
    "name": "ipython",
    "version": 3
   },
   "file_extension": ".py",
   "mimetype": "text/x-python",
   "name": "python",
   "nbconvert_exporter": "python",
   "pygments_lexer": "ipython3",
   "version": "3.8.10"
  },
  "orig_nbformat": 4
 },
 "nbformat": 4,
 "nbformat_minor": 2
}
