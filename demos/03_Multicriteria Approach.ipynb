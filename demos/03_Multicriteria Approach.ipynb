{
 "cells": [
  {
   "cell_type": "markdown",
   "metadata": {},
   "source": [
    "# Multi-criteria approach\n",
    "- This notebook shows how to use this package, and more specifically part 3 (Multi-criteria approach for Community Detection)\n",
    "- Please check other notebooks for other parts (data generation and contestant approaches)"
   ]
  },
  {
   "cell_type": "markdown",
   "metadata": {},
   "source": [
    "## Example 1: Generate results and plot them\n",
    "- Generating data (graphs) following a set of parameters\n",
    "- Running the multi-criteria approach on those graphs and aggregating results\n",
    "- Plotting results"
   ]
  },
  {
   "cell_type": "code",
   "execution_count": 1,
   "metadata": {},
   "outputs": [
    {
     "name": "stdout",
     "output_type": "stream",
     "text": [
      "Fig 06  <ExpConfig: filename=, L=[15, 15], U=[15, 15], NumNodes=60, NumEdges=100, BC=0.1, NumGraphs=5, shuffle=False, seed=42>\n"
     ]
    }
   ],
   "source": [
    "from moo.data_generation import ExpConfig, DataGenerator\n",
    "\n",
    "# Configuration for Fig 06\n",
    "fig06_expconfig = ExpConfig(\n",
    "    L=[15,15], U=[15,15], NumEdges=100, BC=0.1, NumGraphs=5, # 30 graphs in the paper\n",
    "    shuffle=False,\n",
    "    seed=None,\n",
    ")\n",
    "print('Fig 06 ', fig06_expconfig)"
   ]
  },
  {
   "cell_type": "code",
   "execution_count": 2,
   "metadata": {},
   "outputs": [
    {
     "name": "stdout",
     "output_type": "stream",
     "text": [
      "<DataGenerator: ExpConfig: filename=, L=[15, 15], U=[15, 15], NumNodes=60, NumEdges=100, BC=0.1, NumGraphs=5, shuffle=False, seed=42>\n"
     ]
    }
   ],
   "source": [
    "# Generate data\n",
    "expgen = DataGenerator(expconfig=fig06_expconfig) # Pass defined parameters\n",
    "print(expgen)\n",
    "datagen = expgen.generate_data() # datagen is an iterator"
   ]
  },
  {
   "cell_type": "code",
   "execution_count": 3,
   "metadata": {},
   "outputs": [
    {
     "name": "stdout",
     "output_type": "stream",
     "text": [
      "Processing Graph 1\n",
      "Done\n",
      "Processing Graph 2\n",
      "Done\n",
      "Processing Graph 3\n",
      "Done\n",
      "Processing Graph 4\n",
      "Done\n",
      "Processing Graph 5\n",
      "Done\n"
     ]
    },
    {
     "data": {
      "text/html": [
       "<div>\n",
       "<style scoped>\n",
       "    .dataframe tbody tr th:only-of-type {\n",
       "        vertical-align: middle;\n",
       "    }\n",
       "\n",
       "    .dataframe tbody tr th {\n",
       "        vertical-align: top;\n",
       "    }\n",
       "\n",
       "    .dataframe thead th {\n",
       "        text-align: right;\n",
       "    }\n",
       "</style>\n",
       "<table border=\"1\" class=\"dataframe\">\n",
       "  <thead>\n",
       "    <tr style=\"text-align: right;\">\n",
       "      <th></th>\n",
       "      <th>name</th>\n",
       "      <th>num_clusters</th>\n",
       "      <th>modularity_score</th>\n",
       "      <th>modularity_score_1</th>\n",
       "      <th>modularity_score_2</th>\n",
       "      <th>adj_rand_index</th>\n",
       "      <th>modularity_score_barber</th>\n",
       "      <th>conductance</th>\n",
       "      <th>coverage</th>\n",
       "      <th>performance</th>\n",
       "      <th>gini</th>\n",
       "      <th>modularity_score_murata</th>\n",
       "      <th>graph_idx</th>\n",
       "    </tr>\n",
       "  </thead>\n",
       "  <tbody>\n",
       "    <tr>\n",
       "      <th>0</th>\n",
       "      <td>3d</td>\n",
       "      <td>1</td>\n",
       "      <td>0.00000</td>\n",
       "      <td>0.000000</td>\n",
       "      <td>0.000000</td>\n",
       "      <td>0.000000</td>\n",
       "      <td>-8.881784e-16</td>\n",
       "      <td>0.000000</td>\n",
       "      <td>1.0</td>\n",
       "      <td>0.114943</td>\n",
       "      <td>-1.000000</td>\n",
       "      <td>0.25000</td>\n",
       "      <td>1</td>\n",
       "    </tr>\n",
       "    <tr>\n",
       "      <th>1</th>\n",
       "      <td>3d</td>\n",
       "      <td>3</td>\n",
       "      <td>0.42305</td>\n",
       "      <td>0.271811</td>\n",
       "      <td>0.308065</td>\n",
       "      <td>0.606495</td>\n",
       "      <td>4.235000e-01</td>\n",
       "      <td>0.666667</td>\n",
       "      <td>0.0</td>\n",
       "      <td>0.636782</td>\n",
       "      <td>-0.050847</td>\n",
       "      <td>0.32595</td>\n",
       "      <td>1</td>\n",
       "    </tr>\n",
       "    <tr>\n",
       "      <th>2</th>\n",
       "      <td>3d</td>\n",
       "      <td>2</td>\n",
       "      <td>0.40875</td>\n",
       "      <td>0.282307</td>\n",
       "      <td>0.307382</td>\n",
       "      <td>0.684317</td>\n",
       "      <td>4.092000e-01</td>\n",
       "      <td>1.000000</td>\n",
       "      <td>0.0</td>\n",
       "      <td>0.593103</td>\n",
       "      <td>-0.474576</td>\n",
       "      <td>0.32920</td>\n",
       "      <td>1</td>\n",
       "    </tr>\n",
       "    <tr>\n",
       "      <th>3</th>\n",
       "      <td>3d</td>\n",
       "      <td>1</td>\n",
       "      <td>0.00000</td>\n",
       "      <td>0.000000</td>\n",
       "      <td>0.000000</td>\n",
       "      <td>0.000000</td>\n",
       "      <td>-6.661338e-16</td>\n",
       "      <td>0.000000</td>\n",
       "      <td>1.0</td>\n",
       "      <td>0.119048</td>\n",
       "      <td>-1.000000</td>\n",
       "      <td>0.25000</td>\n",
       "      <td>2</td>\n",
       "    </tr>\n",
       "    <tr>\n",
       "      <th>4</th>\n",
       "      <td>3d</td>\n",
       "      <td>2</td>\n",
       "      <td>0.39820</td>\n",
       "      <td>0.303061</td>\n",
       "      <td>0.278898</td>\n",
       "      <td>0.864459</td>\n",
       "      <td>3.990000e-01</td>\n",
       "      <td>0.000000</td>\n",
       "      <td>0.5</td>\n",
       "      <td>0.592857</td>\n",
       "      <td>-0.465517</td>\n",
       "      <td>0.32495</td>\n",
       "      <td>2</td>\n",
       "    </tr>\n",
       "  </tbody>\n",
       "</table>\n",
       "</div>"
      ],
      "text/plain": [
       "  name  num_clusters  modularity_score  modularity_score_1  \\\n",
       "0   3d             1           0.00000            0.000000   \n",
       "1   3d             3           0.42305            0.271811   \n",
       "2   3d             2           0.40875            0.282307   \n",
       "3   3d             1           0.00000            0.000000   \n",
       "4   3d             2           0.39820            0.303061   \n",
       "\n",
       "   modularity_score_2  adj_rand_index  modularity_score_barber  conductance  \\\n",
       "0            0.000000        0.000000            -8.881784e-16     0.000000   \n",
       "1            0.308065        0.606495             4.235000e-01     0.666667   \n",
       "2            0.307382        0.684317             4.092000e-01     1.000000   \n",
       "3            0.000000        0.000000            -6.661338e-16     0.000000   \n",
       "4            0.278898        0.864459             3.990000e-01     0.000000   \n",
       "\n",
       "   coverage  performance      gini  modularity_score_murata  graph_idx  \n",
       "0       1.0     0.114943 -1.000000                  0.25000          1  \n",
       "1       0.0     0.636782 -0.050847                  0.32595          1  \n",
       "2       0.0     0.593103 -0.474576                  0.32920          1  \n",
       "3       1.0     0.119048 -1.000000                  0.25000          2  \n",
       "4       0.5     0.592857 -0.465517                  0.32495          2  "
      ]
     },
     "execution_count": 3,
     "metadata": {},
     "output_type": "execute_result"
    }
   ],
   "source": [
    "# Instantiate the algorithm (change mode to '2d' to use the 2d approach)\n",
    "from moo.multicriteria import ComDetMultiCriteria\n",
    "import pandas as pd\n",
    "\n",
    "algo = ComDetMultiCriteria(\n",
    "    name='3d',\n",
    "    params = {\n",
    "        'mode': '3d', # '2d' for 2d approach\n",
    "        'popsize': 50,\n",
    "        'termination': None, # By default it runs for 1000 generations (or pass a pymoo termination instance)\n",
    "        'save_history': False, # set to True for later hypervolume calculations\n",
    "        'seed': None, # For reproducibility\n",
    "    }\n",
    ")\n",
    "\n",
    "\n",
    "# Run the community detection algorithm on the generated graphs\n",
    "results = [] # Holds results of community detection algorithms (list of dictionaries)\n",
    "for g_idx, graph in enumerate(datagen):\n",
    "    print(f'Processing Graph {g_idx+1}')\n",
    "    result = algo.detect_communities(graph=graph).get_results()\n",
    "    # Result is a list of dictionaries, each dictionary stores the metrics of one iteration (see code for details)\n",
    "    print('Done')\n",
    "    for r in result: # Appending graph index to results, for debugging purposes\n",
    "        r['graph_idx'] = g_idx + 1\n",
    "    results.extend(result)\n",
    "\n",
    "# Save results in a dataframe\n",
    "df = pd.DataFrame(results) # Column names are inferred from the dictionaries' keys\n",
    "df.head()"
   ]
  },
  {
   "cell_type": "code",
   "execution_count": 4,
   "metadata": {},
   "outputs": [
    {
     "data": {
      "text/plain": [
       "(-0.1, 1.1)"
      ]
     },
     "execution_count": 4,
     "metadata": {},
     "output_type": "execute_result"
    },
    {
     "data": {
      "image/png": "[encoded data removed]",
      "text/plain": [
       "<Figure size 720x720 with 1 Axes>"
      ]
     },
     "metadata": {
      "needs_background": "light"
     },
     "output_type": "display_data"
    }
   ],
   "source": [
    "# Extract best solutions for each graph/algorithm pair\n",
    "from moo.contestant import get_best_community_solutions, draw_best_community_solutions\n",
    "best_solutions = get_best_community_solutions(df)\n",
    "\n",
    "# Plot results\n",
    "import matplotlib.pyplot as plt\n",
    "from moo.contestant import draw_best_community_solutions\n",
    "fix, ax = plt.subplots(figsize=(10,10))\n",
    "ax, stats = draw_best_community_solutions(best_solutions, ax)\n",
    "ax.set_title(\"Multi-criteria ommunity detection\")\n",
    "ax.set_xlabel(\"\")\n",
    "ax.set_ylabel(\"Adjusted Rand Index\")\n",
    "min_y = min(df.adj_rand_index.min(), 0) -0.1 # Accounts for BRIM results\n",
    "ax.set_ylim(min_y,1.1)"
   ]
  },
  {
   "cell_type": "markdown",
   "metadata": {},
   "source": [
    "## Example 2: Convergence analysis using the Hypervolume indicator\n",
    "- Generating data (graphs) following a set of parameters\n",
    "- Running the multi-criteria approach on those graphs and aggregating results\n",
    "- Plotting the Hypervolume"
   ]
  },
  {
   "cell_type": "code",
   "execution_count": 5,
   "metadata": {},
   "outputs": [
    {
     "name": "stdout",
     "output_type": "stream",
     "text": [
      "Processing Graph 1\n",
      "Done\n"
     ]
    },
    {
     "data": {
      "text/html": [
       "<div>\n",
       "<style scoped>\n",
       "    .dataframe tbody tr th:only-of-type {\n",
       "        vertical-align: middle;\n",
       "    }\n",
       "\n",
       "    .dataframe tbody tr th {\n",
       "        vertical-align: top;\n",
       "    }\n",
       "\n",
       "    .dataframe thead th {\n",
       "        text-align: right;\n",
       "    }\n",
       "</style>\n",
       "<table border=\"1\" class=\"dataframe\">\n",
       "  <thead>\n",
       "    <tr style=\"text-align: right;\">\n",
       "      <th></th>\n",
       "      <th>name</th>\n",
       "      <th>num_clusters</th>\n",
       "      <th>modularity_score</th>\n",
       "      <th>modularity_score_1</th>\n",
       "      <th>modularity_score_2</th>\n",
       "      <th>adj_rand_index</th>\n",
       "      <th>modularity_score_barber</th>\n",
       "      <th>conductance</th>\n",
       "      <th>coverage</th>\n",
       "      <th>performance</th>\n",
       "      <th>gini</th>\n",
       "      <th>modularity_score_murata</th>\n",
       "      <th>graph_idx</th>\n",
       "    </tr>\n",
       "  </thead>\n",
       "  <tbody>\n",
       "    <tr>\n",
       "      <th>0</th>\n",
       "      <td>3d</td>\n",
       "      <td>1</td>\n",
       "      <td>0.00000</td>\n",
       "      <td>0.000000</td>\n",
       "      <td>0.000000</td>\n",
       "      <td>0.000000</td>\n",
       "      <td>-8.881784e-16</td>\n",
       "      <td>0.000000</td>\n",
       "      <td>1.0</td>\n",
       "      <td>0.114943</td>\n",
       "      <td>-1.000000</td>\n",
       "      <td>0.25000</td>\n",
       "      <td>1</td>\n",
       "    </tr>\n",
       "    <tr>\n",
       "      <th>1</th>\n",
       "      <td>3d</td>\n",
       "      <td>3</td>\n",
       "      <td>0.42305</td>\n",
       "      <td>0.271811</td>\n",
       "      <td>0.308065</td>\n",
       "      <td>0.606495</td>\n",
       "      <td>4.235000e-01</td>\n",
       "      <td>0.666667</td>\n",
       "      <td>0.0</td>\n",
       "      <td>0.636782</td>\n",
       "      <td>-0.050847</td>\n",
       "      <td>0.32595</td>\n",
       "      <td>1</td>\n",
       "    </tr>\n",
       "    <tr>\n",
       "      <th>2</th>\n",
       "      <td>3d</td>\n",
       "      <td>2</td>\n",
       "      <td>0.40875</td>\n",
       "      <td>0.282307</td>\n",
       "      <td>0.307382</td>\n",
       "      <td>0.684317</td>\n",
       "      <td>4.092000e-01</td>\n",
       "      <td>1.000000</td>\n",
       "      <td>0.0</td>\n",
       "      <td>0.593103</td>\n",
       "      <td>-0.474576</td>\n",
       "      <td>0.32920</td>\n",
       "      <td>1</td>\n",
       "    </tr>\n",
       "  </tbody>\n",
       "</table>\n",
       "</div>"
      ],
      "text/plain": [
       "  name  num_clusters  modularity_score  modularity_score_1  \\\n",
       "0   3d             1           0.00000            0.000000   \n",
       "1   3d             3           0.42305            0.271811   \n",
       "2   3d             2           0.40875            0.282307   \n",
       "\n",
       "   modularity_score_2  adj_rand_index  modularity_score_barber  conductance  \\\n",
       "0            0.000000        0.000000            -8.881784e-16     0.000000   \n",
       "1            0.308065        0.606495             4.235000e-01     0.666667   \n",
       "2            0.307382        0.684317             4.092000e-01     1.000000   \n",
       "\n",
       "   coverage  performance      gini  modularity_score_murata  graph_idx  \n",
       "0       1.0     0.114943 -1.000000                  0.25000          1  \n",
       "1       0.0     0.636782 -0.050847                  0.32595          1  \n",
       "2       0.0     0.593103 -0.474576                  0.32920          1  "
      ]
     },
     "execution_count": 5,
     "metadata": {},
     "output_type": "execute_result"
    }
   ],
   "source": [
    "from moo.data_generation import ExpConfig, DataGenerator\n",
    "from moo.multicriteria import ComDetMultiCriteria\n",
    "import pandas as pd\n",
    "\n",
    "# Configuration for Fig 06 (one graph only for illustration purposes)\n",
    "fig06_expconfig = ExpConfig(\n",
    "    L=[15,15], U=[15,15], NumEdges=100, BC=0.1, NumGraphs=1, # 30 graphs in the paper\n",
    "    shuffle=False,\n",
    "    seed=None,\n",
    ")\n",
    "\n",
    "# Generate data\n",
    "expgen = DataGenerator(expconfig=fig06_expconfig) # Pass defined parameters\n",
    "datagen = expgen.generate_data() # datagen is an iterator\n",
    "\n",
    "# Instantiate the algorithm (change mode to '2d' to use the 2d approach)\n",
    "# Please note that history needs to be enabled\n",
    "\n",
    "algo = ComDetMultiCriteria(\n",
    "    name='3d',\n",
    "    params = {\n",
    "        'mode': '3d', # '2d' for 2d approach\n",
    "        'popsize': 50,\n",
    "        'termination': None, # By default it runs for 1000 generations (or pass a pymoo termination instance)\n",
    "        'save_history': True, # set to True for later hypervolume calculations\n",
    "        'seed': None, # For reproducibility\n",
    "    }\n",
    ")\n",
    "\n",
    "# Run the community detection algorithm on the generated graphs\n",
    "results = [] # Holds results of community detection algorithms (list of dictionaries)\n",
    "for g_idx, graph in enumerate(datagen):\n",
    "    print(f'Processing Graph {g_idx+1}')\n",
    "    result = algo.detect_communities(graph=graph).get_results()\n",
    "    # Result is a list of dictionaries, each dictionary stores the metrics of one iteration (see code for details)\n",
    "    print('Done')\n",
    "    for r in result: # Appending graph index to results, for debugging purposes\n",
    "        r['graph_idx'] = g_idx + 1\n",
    "    results.extend(result)\n",
    "\n",
    "# Save results in a dataframe\n",
    "df = pd.DataFrame(results) # Column names are inferred from the dictionaries' keys\n",
    "df.head()\n"
   ]
  },
  {
   "cell_type": "code",
   "execution_count": 6,
   "metadata": {},
   "outputs": [
    {
     "data": {
      "image/png": "[encoded data removed]",
      "text/plain": [
       "<Figure size 504x360 with 1 Axes>"
      ]
     },
     "metadata": {
      "needs_background": "light"
     },
     "output_type": "display_data"
    }
   ],
   "source": [
    "# Compute the Hypervolume indicator\n",
    "n_evals, hv = algo.compute_hypervolume()\n",
    "\n",
    " # Plot\n",
    "import matplotlib.pyplot as plt\n",
    "plt.figure(figsize=(7, 5))\n",
    "plt.plot(n_evals, hv,  color='black', lw=0.7, label=\"Avg. CV of Pop\")\n",
    "plt.scatter(n_evals, hv,  facecolor=\"none\", edgecolor='black', marker=\"p\")\n",
    "plt.title(\"Convergence\")\n",
    "plt.xlabel(\"Function Evaluations\")\n",
    "plt.ylabel(\"Hypervolume\")\n",
    "plt.show()\n",
    " "
   ]
  },
  {
   "cell_type": "code",
   "execution_count": null,
   "metadata": {},
   "outputs": [],
   "source": []
  }
 ],
 "metadata": {
  "kernelspec": {
   "display_name": "Python 3 (ipykernel)",
   "language": "python",
   "name": "python3"
  },
  "language_info": {
   "codemirror_mode": {
    "name": "ipython",
    "version": 3
   },
   "file_extension": ".py",
   "mimetype": "text/x-python",
   "name": "python",
   "nbconvert_exporter": "python",
   "pygments_lexer": "ipython3",
   "version": "3.10.1"
  }
 },
 "nbformat": 4,
 "nbformat_minor": 4
}
