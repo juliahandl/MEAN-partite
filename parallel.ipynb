{
 "cells": [
  {
   "cell_type": "markdown",
   "metadata": {},
   "source": [
    "# Parallel processing demo\n",
    "\n",
    "This notebook contains a brief demo of running experiments in parallel, and verifies that the results agree with running in series\n"
   ]
  },
  {
   "cell_type": "code",
   "execution_count": 1,
   "metadata": {},
   "outputs": [],
   "source": [
    "%load_ext autoreload\n",
    "%autoreload 2\n",
    "\n",
    "import igraph\n",
    "from moo.data_generation import ExpConfig, DataGenerator\n",
    "from moo.data_generation import ExpConfig, DataGenerator\n",
    "from moo.contestant import get_best_community_solutions, draw_best_community_solutions\n",
    "from moo.communities import run_parallel_communities\n",
    "import moo.contestant as contestant\n",
    "import matplotlib.pyplot as plt\n",
    "\n",
    "from joblib import Parallel, delayed\n",
    "\n",
    "\n",
    "import pandas as pd\n",
    "\n",
    "import time\n"
   ]
  },
  {
   "cell_type": "markdown",
   "metadata": {},
   "source": [
    "We first set up the experiment (i.e. the configuration of the set of graphs), and the algorithms we want to run on each graph.   \n",
    "\n",
    "Note that comDetMultiLevel doesn't appear to be deterministic - haven't investigted this further, as it's using the igraph method as a black box)"
   ]
  },
  {
   "cell_type": "code",
   "execution_count": 2,
   "metadata": {},
   "outputs": [],
   "source": [
    "expconfig = ExpConfig(\n",
    "    L=100, U=500,\n",
    "    NumEdges=1000, ML=0.4, MU=0.4,\n",
    "    BC=0.1, NumGraphs=30,\n",
    "    shuffle=True, \n",
    "    seed=1234  \n",
    "    )\n",
    "\n",
    "\n",
    "algos = [\n",
    "    contestant.ComDetMultiLevel(), # Multi-Level approach\n",
    "    contestant.ComDetEdgeBetweenness(), # EdgeBetweenness approach\n",
    "    contestant.ComDetWalkTrap(), # WalkTrap approach\n",
    "    contestant.ComDetFastGreedy(), # FastGreedy approach\n",
    "]\n",
    "\n"
   ]
  },
  {
   "cell_type": "markdown",
   "metadata": {},
   "source": [
    "Then create the data generator iterators (we make two; one for the parallel run, and one for the series run to verify the answers are the same):\n",
    "\n"
   ]
  },
  {
   "cell_type": "code",
   "execution_count": 3,
   "metadata": {},
   "outputs": [],
   "source": [
    "expgen = DataGenerator(expconfig=expconfig) # Pass defined parameters\n",
    "\n",
    "datagenSeries = expgen.generate_data() \n",
    "datagenParallel = expgen.generate_data() \n"
   ]
  },
  {
   "cell_type": "markdown",
   "metadata": {},
   "source": [
    "We can then run the jobs in parallel:\n"
   ]
  },
  {
   "cell_type": "code",
   "execution_count": 4,
   "metadata": {},
   "outputs": [
    {
     "name": "stdout",
     "output_type": "stream",
     "text": [
      "Parallel time taken 52.734846115112305\n"
     ]
    }
   ],
   "source": [
    "start = time.time()\n",
    "parallelResults = run_parallel_communities(datagenParallel, algos, n_jobs = 7)\n",
    "\n",
    "parallelTime = time.time()-start\n",
    "print(\"Parallel time taken\", parallelTime)\n"
   ]
  },
  {
   "cell_type": "markdown",
   "metadata": {},
   "source": [
    "And run the same thing in series:"
   ]
  },
  {
   "cell_type": "code",
   "execution_count": 6,
   "metadata": {},
   "outputs": [
    {
     "name": "stdout",
     "output_type": "stream",
     "text": [
      "Series time taken 160.54513263702393\n"
     ]
    }
   ],
   "source": [
    "\n",
    "start = time.time()\n",
    "\n",
    "results = [] # Holds results of contestants\n",
    "for g_idx, graph in enumerate(datagenSeries):\n",
    "#    print(f'Processing Graph {g_idx+1}')\n",
    "    for algo in algos:\n",
    "#        print(f'\\tUsing algoithm {algo.name_}')\n",
    "        result = algo.detect_communities(graph=graph).get_results()\n",
    "        # Result is a list of dictionaries, each dictionary stores the metrics of one iteration (see code for details)\n",
    "        for r in result: # Appending graph index to results, for debugging purposes\n",
    "            r['graph_idx'] = g_idx + 1\n",
    "        results.extend(result)\n",
    "\n",
    "seriesTime = time.time()-start\n",
    "print(\"Series time taken\", seriesTime)\n",
    "\n"
   ]
  },
  {
   "cell_type": "code",
   "execution_count": null,
   "metadata": {},
   "outputs": [],
   "source": [
    "print(\"Speedup:\", seriesTime/parallelTime)"
   ]
  },
  {
   "cell_type": "markdown",
   "metadata": {},
   "source": [
    "## Compare results\n",
    "\n",
    "In this section of the notebook we verify that both approaches give identical results\n"
   ]
  }
 ],
 "metadata": {
  "interpreter": {
   "hash": "33ad9f79590881d5bbcfec08e36e950ffce416a048eb73d93f54046f025e58c5"
  },
  "kernelspec": {
   "display_name": "Python 3.8.10 ('bipartite': venv)",
   "language": "python",
   "name": "python3"
  },
  "language_info": {
   "codemirror_mode": {
    "name": "ipython",
    "version": 3
   },
   "file_extension": ".py",
   "mimetype": "text/x-python",
   "name": "python",
   "nbconvert_exporter": "python",
   "pygments_lexer": "ipython3",
   "version": "3.8.10"
  },
  "orig_nbformat": 4
 },
 "nbformat": 4,
 "nbformat_minor": 2
}
