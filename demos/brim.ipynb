{
 "cells": [
  {
   "cell_type": "markdown",
   "metadata": {},
   "source": [
    "#  Brim algorithm\n",
    "\n",
    "\n",
    "This notebook looks at getting the BRIM algorithm working.\n",
    "\n",
    "Briefly, there were two issues.  The most recent verison of the code on https://github.com/genisott/pycondor ([commit 84a1ba](https://github.com/genisott/pycondor/commit/84a1ba24f6ed9f12bed857d551e5c9f3d02f5cb4)) doesn't appear to work using the example data supplied.  My suspicion is that this is still a work in progress (though it isn't on a separate \"branch\" as you would normally expect)\n",
    "\n",
    "Instead, I've worked with [commit 38993](https://github.com/genisott/pycondor/commit/389932cfa4d1954aef7d1b725a33a6b2ef018de2), from 28 August 2019.  This is the most last commit before a large gap in development (the next commit is on 26 December 2021), and is, I assume, the version Julia was using previously.   The contestent code will check that an appropriate version of pycondor is installed (this relies on the package interface changing, since there isn't a version string in the package)\n",
    "\n",
    "The code has a somewhat unusual interface, taking a Pandas dataframe containing an edgelist.   This is then converted to an igraph object by the Condor object.  The effect of this is that the vertex and edge sequences in the internal Condor igraph are _different_ to the vertex and edge sequences of the igraph object that the user created the edgelist from (although the two graphs are equivalent).   (In practice, it would probably be preferable for the Condor algorithm to take an igraph object as its input, though this would require re-writing it)\n",
    "\n",
    "This was the reason that very low values of the metrics were being returned; the community assignments being returned by Condor are in its order, but the performance metrics were being calculated with respect to the ground truth in _our_ order.\n",
    "\n",
    "\n"
   ]
  },
  {
   "cell_type": "code",
   "execution_count": 1,
   "metadata": {},
   "outputs": [],
   "source": [
    "%load_ext autoreload\n",
    "%autoreload 2\n",
    "\n",
    "import igraph\n",
    "from moo.data_generation import ExpConfig, DataGenerator\n",
    "from moo.contestant import get_best_community_solutions, draw_best_community_solutions\n",
    "from moo.communities import run_parallel_communities\n",
    "import moo.contestant as contestant\n",
    "import matplotlib.pyplot as plt\n",
    "\n",
    "from joblib import Parallel, delayed\n",
    "\n",
    "\n",
    "import pandas as pd\n",
    "\n",
    "import time\n"
   ]
  },
  {
   "cell_type": "code",
   "execution_count": 2,
   "metadata": {},
   "outputs": [
    {
     "name": "stderr",
     "output_type": "stream",
     "text": [
      "150it [00:14, 10.14it/s]\n"
     ]
    },
    {
     "name": "stdout",
     "output_type": "stream",
     "text": [
      "Parallel time taken 18.375002145767212\n"
     ]
    }
   ],
   "source": [
    "expconfig = ExpConfig(\n",
    "    L=[50,50], U=[50,50],\n",
    "    NumEdges=1000,\n",
    "    BC=0.2, NumGraphs=30,\n",
    "    shuffle=True, \n",
    "    seed=1234  \n",
    "    )\n",
    "\n",
    "\n",
    "algos = [\n",
    "    contestant.ComDetMultiLevel(), # Multi-Level approach\n",
    "    contestant.ComDetEdgeBetweenness(), # EdgeBetweenness approach\n",
    "    contestant.ComDetWalkTrap(), # WalkTrap approach\n",
    "    contestant.ComDetFastGreedy(), # FastGreedy approach\n",
    "    contestant.ComDetBRIM(), # Brim\n",
    "]\n",
    "\n",
    "expgen = DataGenerator(expconfig=expconfig) # Pass defined parameters\n",
    "\n",
    "\n",
    "datagenParallel = expgen.generate_data() \n",
    "\n",
    "start = time.time()\n",
    "parallelResults = run_parallel_communities(datagenParallel, algos, n_jobs = 7)\n",
    "\n",
    "parallelTime = time.time()-start\n",
    "print(\"Parallel time taken\", parallelTime)"
   ]
  },
  {
   "cell_type": "code",
   "execution_count": 3,
   "metadata": {},
   "outputs": [
    {
     "data": {
      "text/plain": [
       "(-0.10504847464954617, 1.1)"
      ]
     },
     "execution_count": 3,
     "metadata": {},
     "output_type": "execute_result"
    },
    {
     "data": {
      "image/png": "[encoded data removed]",
      "text/plain": [
       "<Figure size 720x720 with 1 Axes>"
      ]
     },
     "metadata": {
      "needs_background": "light"
     },
     "output_type": "display_data"
    }
   ],
   "source": [
    "df = pd.DataFrame(parallelResults)\n",
    "\n",
    "best_solutions = get_best_community_solutions(df) # Extract best solutions for each graph/algorithm pair\n",
    "# Optional: Sort algorithms to match algorithm order in paper figures\n",
    "# algo_order = {'walktrap':1, 'fastgreedy':2, 'edgebetweenness':3, 'multilevel':4, 'brim':5, 'multicriteria_3d':5, 'multicriteria_2d':6}\n",
    "#algo_order = {'WT':1, 'FG':2, 'BRIM':3} # Define required order here\n",
    "#best_solutions['algo_order'] = best_solutions.name.map(algo_order)\n",
    "#best_solutions.sort_values(by=['algo_order'], axis=0, ascending=True, inplace=True, ignore_index=True\n",
    "fig, ax = plt.subplots(figsize=(10,10))\n",
    "ax, stats = draw_best_community_solutions(best_solutions, ax)\n",
    "ax.set_title(f'Brim algorithm comparison')\n",
    "ax.set_xlabel(\"\")\n",
    "ax.set_ylabel(\"Adjusted Rand Index\")\n",
    "ax.grid(axis='y', color = 'green', linestyle = '--', linewidth = 0.5)\n",
    "min_y = min(df.adj_rand_index.min(), 0) -0.1 # Accounts for BRIM results\n",
    "ax.set_ylim(min_y,1.1)"
   ]
  },
  {
   "cell_type": "code",
   "execution_count": null,
   "metadata": {},
   "outputs": [],
   "source": []
  }
 ],
 "metadata": {
  "interpreter": {
   "hash": "33ad9f79590881d5bbcfec08e36e950ffce416a048eb73d93f54046f025e58c5"
  },
  "kernelspec": {
   "display_name": "Python 3 (ipykernel)",
   "language": "python",
   "name": "python3"
  },
  "language_info": {
   "codemirror_mode": {
    "name": "ipython",
    "version": 3
   },
   "file_extension": ".py",
   "mimetype": "text/x-python",
   "name": "python",
   "nbconvert_exporter": "python",
   "pygments_lexer": "ipython3",
   "version": "3.10.1"
  }
 },
 "nbformat": 4,
 "nbformat_minor": 2
}
