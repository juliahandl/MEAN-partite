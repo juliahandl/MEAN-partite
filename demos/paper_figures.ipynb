{
 "cells": [
  {
   "cell_type": "markdown",
   "metadata": {},
   "source": [
    "# Generate figures for the paper\n",
    "- Each figure corresponds to a different graph structure configuration\n",
    "- Please see the paper for details"
   ]
  },
  {
   "cell_type": "code",
   "execution_count": 1,
   "metadata": {},
   "outputs": [],
   "source": [
    "%load_ext autoreload\n",
    "%autoreload 2\n",
    "%matplotlib inline"
   ]
  },
  {
   "cell_type": "code",
   "execution_count": 2,
   "metadata": {},
   "outputs": [],
   "source": [
    "ConfigNumGraphs = 30"
   ]
  },
  {
   "cell_type": "markdown",
   "metadata": {},
   "source": [
    "## Define graph/experiment configurations for figures"
   ]
  },
  {
   "cell_type": "code",
   "execution_count": 3,
   "metadata": {},
   "outputs": [
    {
     "name": "stdout",
     "output_type": "stream",
     "text": [
      "Fig 05 <ExpConfig: filename=, L=[15, 15], U=[15, 15], NumNodes=60, NumEdges=200, BC=0.1, NumGraphs=30, shuffle=False, seed=42>\n"
     ]
    }
   ],
   "source": [
    "from moo.data_generation import ExpConfig, DataGenerator\n",
    "# Define configurations\n",
    "fig05_expconfig = ExpConfig(\n",
    "    L=[15,15], U=[15,15], NumEdges=200, BC=0.1, NumGraphs=ConfigNumGraphs,\n",
    "    shuffle=False,  # Change to shuffle\n",
    "    seed=None, # This is the default\n",
    ")\n",
    "print('Fig 05', fig05_expconfig)"
   ]
  },
  {
   "cell_type": "code",
   "execution_count": null,
   "metadata": {},
   "outputs": [],
   "source": []
  },
  {
   "cell_type": "code",
   "execution_count": 4,
   "metadata": {},
   "outputs": [
    {
     "name": "stdout",
     "output_type": "stream",
     "text": [
      "Fig 06  <ExpConfig: filename=, L=[15, 15], U=[15, 15], NumNodes=60, NumEdges=100, BC=0.1, NumGraphs=30, shuffle=False, seed=42>\n"
     ]
    }
   ],
   "source": [
    "fig06_expconfig = ExpConfig(\n",
    "    L=[15,15], U=[15,15], NumEdges=100, BC=0.1, NumGraphs=ConfigNumGraphs,\n",
    "    shuffle=False,\n",
    "    seed=None,\n",
    ")\n",
    "print('Fig 06 ', fig06_expconfig)"
   ]
  },
  {
   "cell_type": "code",
   "execution_count": 5,
   "metadata": {},
   "outputs": [
    {
     "name": "stdout",
     "output_type": "stream",
     "text": [
      "Fig 07  <ExpConfig: filename=, L=[5, 5], U=[25, 25], NumNodes=60, NumEdges=100, BC=0.1, NumGraphs=30, shuffle=False, seed=42>\n"
     ]
    }
   ],
   "source": [
    "fig07_expconfig = ExpConfig(\n",
    "    L=[5,5], U=[25,25], NumEdges=100, BC=0.1, NumGraphs=ConfigNumGraphs,\n",
    "    shuffle=False,\n",
    "    seed=None,\n",
    ")\n",
    "print('Fig 07 ', fig07_expconfig)"
   ]
  },
  {
   "cell_type": "code",
   "execution_count": 6,
   "metadata": {},
   "outputs": [
    {
     "name": "stdout",
     "output_type": "stream",
     "text": [
      "Fig 08  <ExpConfig: filename=, L=[5, 5], U=[25, 25], NumNodes=60, NumEdges=100, BC=0.2, NumGraphs=30, shuffle=False, seed=42>\n"
     ]
    }
   ],
   "source": [
    "fig08_expconfig = ExpConfig(\n",
    "    L=[5,5], U=[25,25], NumEdges=100, BC=0.2, NumGraphs=ConfigNumGraphs,\n",
    "    shuffle=False,\n",
    "    seed=None,\n",
    ")\n",
    "print('Fig 08 ', fig08_expconfig)"
   ]
  },
  {
   "cell_type": "code",
   "execution_count": 7,
   "metadata": {},
   "outputs": [
    {
     "name": "stdout",
     "output_type": "stream",
     "text": [
      "Fig 09 a  <ExpConfig: filename=, L=[40, 60], U=[8, 12], NumNodes=120, NumEdges=200, BC=0.2, NumGraphs=30, shuffle=False, seed=42>\n",
      "Fig 09 b  <ExpConfig: filename=, L=[200, 300], U=[40, 60], NumNodes=600, NumEdges=1000, BC=0.2, NumGraphs=30, shuffle=False, seed=42>\n"
     ]
    }
   ],
   "source": [
    "fig09_expconfig_a = ExpConfig(\n",
    "    L=[40,60], U=[8,12], NumEdges=200, BC=0.2, NumGraphs=ConfigNumGraphs,\n",
    "    shuffle=False,\n",
    "    seed=None,\n",
    ")\n",
    "fig09_expconfig_b = ExpConfig(\n",
    "    L=[200,300], U=[40,60], NumEdges=1000, BC=0.2, NumGraphs=ConfigNumGraphs,\n",
    "    shuffle=False,\n",
    "    seed=None,\n",
    ")\n",
    "print('Fig 09 a ', fig09_expconfig_a)\n",
    "print('Fig 09 b ', fig09_expconfig_b)"
   ]
  },
  {
   "cell_type": "markdown",
   "metadata": {},
   "source": [
    "## Run community detection algorithms/generate results"
   ]
  },
  {
   "cell_type": "markdown",
   "metadata": {},
   "source": [
    "### Setup and usage example"
   ]
  },
  {
   "cell_type": "code",
   "execution_count": 8,
   "metadata": {},
   "outputs": [],
   "source": [
    "from moo.multicriteria import ComDetMultiCriteria\n",
    "from moo.contestant import ComDetWalkTrap, ComDetFastGreedy, ComDetEdgeBetweenness, ComDetMultiLevel, ComDetBRIMNoPert\n",
    "from moo.communities import detect_communitites\n",
    "import pandas as pd"
   ]
  },
  {
   "cell_type": "code",
   "execution_count": 11,
   "metadata": {},
   "outputs": [
    {
     "name": "stdout",
     "output_type": "stream",
     "text": [
      "<DataGenerator: ExpConfig: filename=, L=[5, 5], U=[25, 25], NumNodes=60, NumEdges=100, BC=0.2, NumGraphs=30, shuffle=False, seed=42>\n",
      "(2865, 13) ['WT' 'FG' 'CE' 'ML' 'BRIM']\n"
     ]
    },
    {
     "data": {
      "text/plain": [
       "(-0.12189781021897811, 1.1)"
      ]
     },
     "execution_count": 11,
     "metadata": {},
     "output_type": "execute_result"
    },
    {
     "data": {
      "image/png": "[encoded data removed]",
      "text/plain": [
       "<Figure size 720x720 with 1 Axes>"
      ]
     },
     "metadata": {
      "needs_background": "light"
     },
     "output_type": "display_data"
    }
   ],
   "source": [
    "# Example usage (result generation and plotting)\n",
    "\n",
    "\n",
    "from moo.multicriteria import ComDetMultiCriteria\n",
    "from moo.contestant import ComDetWalkTrap, ComDetFastGreedy, ComDetEdgeBetweenness, ComDetMultiLevel, ComDetBRIM\n",
    "\n",
    "# Define algorithms to run\n",
    "algos = [\n",
    "    ComDetWalkTrap(name='WT'),\n",
    "    ComDetFastGreedy(name='FG'),\n",
    "    ComDetEdgeBetweenness(name='CE'),\n",
    "    ComDetMultiLevel(name='ML'),\n",
    "    ComDetBRIM(name='BRIM'),\n",
    "    # ComDetMultiCriteria(name='3d', params = {'mode': '3d', 'popsize': 50, 'termination': None, 'save_history': False, 'seed': None}),\n",
    "    # ComDetMultiCriteria(name='2d', params = {'mode': '2d', 'popsize': 50, 'termination': None, 'save_history': False, 'seed': None}),\n",
    "]\n",
    "\n",
    "# Run algorithms\n",
    "results = detect_communitites(fig08_expconfig, algos)\n",
    "df = pd.DataFrame(results) # Column names are inferred from the dictionaries' keys\n",
    "print(df.shape, df.name.unique())\n",
    "# df.head()\n",
    "\n",
    "# # Optional saving\n",
    "# path = \".\"\n",
    "# import os\n",
    "# os.makedirs(path, exist_ok=True) # Create the path if it does not exist\n",
    "# df.to_csv(os.path.join(path, 'results.csv'), index=None)\n",
    "\n",
    "# Extract best solutions for each graph/algorithm pair\n",
    "from moo.contestant import get_best_community_solutions, draw_best_community_solutions\n",
    "best_solutions = get_best_community_solutions(df)\n",
    "# Optional: Sort algorithms to match algorithm order in paper figures\n",
    "# algo_order = {'walktrap':1, 'fastgreedy':2, 'edgebetweenness':3, 'multilevel':4, 'brim':5, 'multicriteria_3d':5, 'multicriteria_2d':6}\n",
    "algo_order = {'WT':1, 'FG':2, 'CE':3, 'ML':4, 'BRIM':5, '3d':6, '2d':7} # DEfine required order here\n",
    "best_solutions['algo_order'] = best_solutions.name.map(algo_order)\n",
    "best_solutions.sort_values(by=['algo_order'], axis=0, ascending=True, inplace=True, ignore_index=True)\n",
    "# best_solutions.head()\n",
    "\n",
    "# Plot results\n",
    "import matplotlib.pyplot as plt\n",
    "from moo.contestant import draw_best_community_solutions\n",
    "fix, ax = plt.subplots(figsize=(10,10))\n",
    "ax, stats = draw_best_community_solutions(best_solutions, ax)\n",
    "ax.set_title(\"Fig 05 community detection, no perturbation\")\n",
    "ax.set_xlabel(\"\")\n",
    "ax.set_ylabel(\"Adjusted Rand Index\")\n",
    "min_y = min(df.adj_rand_index.min(), 0) -0.1 # Accounts for BRIM results\n",
    "ax.set_ylim(min_y,1.1)"
   ]
  },
  {
   "cell_type": "markdown",
   "metadata": {},
   "source": [
    "### Result generation and plotting"
   ]
  },
  {
   "cell_type": "code",
   "execution_count": 12,
   "metadata": {},
   "outputs": [
    {
     "name": "stdout",
     "output_type": "stream",
     "text": [
      "Generating results for  fig05  ... <DataGenerator: ExpConfig: filename=, L=[15, 15], U=[15, 15], NumNodes=60, NumEdges=200, BC=0.1, NumGraphs=30, shuffle=False, seed=42>\n"
     ]
    }
   ],
   "source": [
    "expconfigs = [fig05_expconfig] #, fig06_expconfig, fig07_expconfig, fig08_expconfig, fig09_expconfig_a, fig09_expconfig_b]#[:1]\n",
    "tags = ['fig05'] #, 'fig06', 'fig07', 'fig08', 'fig09_a', 'fig09_b']#[:1]\n",
    "\n",
    "from pymoo.factory import get_termination\n",
    "algos = [\n",
    "    ComDetWalkTrap(name='WT'),\n",
    "    ComDetFastGreedy(name='FG'),\n",
    "    ComDetEdgeBetweenness(name='CE'),\n",
    "    ComDetMultiLevel(name='ML'),\n",
    "    ComDetBRIM(name='BRIM'),\n",
    "    ComDetMultiCriteria(name='3d', params = {'mode': '3d', 'popsize': 50, 'termination': get_termination('n_gen', 50), 'save_history': False, 'seed': None}),\n",
    "    ComDetMultiCriteria(name='2d', params = {'mode': '2d', 'popsize': 50, 'termination': get_termination('n_gen', 50), 'save_history': False, 'seed': None}),\n",
    "]\n",
    "\n",
    "for expconfig, tag in zip(expconfigs, tags):\n",
    "    print('Generating results for ', tag, ' ... ', end='')\n",
    "    results = detect_communitites(expconfig, algos)\n",
    "    df = pd.DataFrame(results) # Column names are inferred from the dictionaries' keys\n",
    "    # print(df.shape, df.name.unique())\n",
    "    # df.head()\n",
    "    path = \"./_temp\"\n",
    "    import os\n",
    "    import pickle\n",
    "    os.makedirs(path, exist_ok=True) # Create the path if it does not exist\n",
    "    df.to_csv(os.path.join(path, f'results_{tag}_nopert.csv'), index=None)\n",
    "    pickle.dump(df, open(os.path.join(path, f'results_{tag}_brim_nopert.pickle'), 'wb'))\n",
    "    \n"
   ]
  },
  {
   "cell_type": "code",
   "execution_count": 13,
   "metadata": {},
   "outputs": [
    {
     "data": {
      "text/html": [
       "<div>\n",
       "<style scoped>\n",
       "    .dataframe tbody tr th:only-of-type {\n",
       "        vertical-align: middle;\n",
       "    }\n",
       "\n",
       "    .dataframe tbody tr th {\n",
       "        vertical-align: top;\n",
       "    }\n",
       "\n",
       "    .dataframe thead th {\n",
       "        text-align: right;\n",
       "    }\n",
       "</style>\n",
       "<table border=\"1\" class=\"dataframe\">\n",
       "  <thead>\n",
       "    <tr style=\"text-align: right;\">\n",
       "      <th></th>\n",
       "      <th>name</th>\n",
       "      <th>graph_idx</th>\n",
       "      <th>adj_rand_index</th>\n",
       "      <th>algo_order</th>\n",
       "    </tr>\n",
       "  </thead>\n",
       "  <tbody>\n",
       "    <tr>\n",
       "      <th>0</th>\n",
       "      <td>WT</td>\n",
       "      <td>30</td>\n",
       "      <td>0.933315</td>\n",
       "      <td>1</td>\n",
       "    </tr>\n",
       "    <tr>\n",
       "      <th>1</th>\n",
       "      <td>WT</td>\n",
       "      <td>29</td>\n",
       "      <td>1.000000</td>\n",
       "      <td>1</td>\n",
       "    </tr>\n",
       "    <tr>\n",
       "      <th>2</th>\n",
       "      <td>WT</td>\n",
       "      <td>1</td>\n",
       "      <td>0.933315</td>\n",
       "      <td>1</td>\n",
       "    </tr>\n",
       "    <tr>\n",
       "      <th>3</th>\n",
       "      <td>WT</td>\n",
       "      <td>2</td>\n",
       "      <td>0.868899</td>\n",
       "      <td>1</td>\n",
       "    </tr>\n",
       "    <tr>\n",
       "      <th>4</th>\n",
       "      <td>WT</td>\n",
       "      <td>3</td>\n",
       "      <td>0.933315</td>\n",
       "      <td>1</td>\n",
       "    </tr>\n",
       "  </tbody>\n",
       "</table>\n",
       "</div>"
      ],
      "text/plain": [
       "  name  graph_idx  adj_rand_index  algo_order\n",
       "0   WT         30        0.933315           1\n",
       "1   WT         29        1.000000           1\n",
       "2   WT          1        0.933315           1\n",
       "3   WT          2        0.868899           1\n",
       "4   WT          3        0.933315           1"
      ]
     },
     "execution_count": 13,
     "metadata": {},
     "output_type": "execute_result"
    }
   ],
   "source": [
    "# Extract best solutions for each graph/algorithm pair\n",
    "from moo.contestant import get_best_community_solutions, draw_best_community_solutions\n",
    "best_solutions = get_best_community_solutions(df)\n",
    "# Optional: Sort algorithms to match algorithm order in paper figures\n",
    "# algo_order = {'walktrap':1, 'fastgreedy':2, 'edgebetweenness':3, 'multilevel':4, 'brim':5, 'multicriteria_3d':5, 'multicriteria_2d':6}\n",
    "algo_order = {'WT':1, 'FG':2, 'CE':3, 'ML':4, 'BRIM':5, '3d':6, '2d':7} # DEfine required order here\n",
    "best_solutions['algo_order'] = best_solutions.name.map(algo_order)\n",
    "best_solutions.sort_values(by=['algo_order'], axis=0, ascending=True, inplace=True, ignore_index=True)\n",
    "best_solutions.head()"
   ]
  },
  {
   "cell_type": "code",
   "execution_count": 14,
   "metadata": {},
   "outputs": [
    {
     "data": {
      "text/plain": [
       "(-0.1, 1.1)"
      ]
     },
     "execution_count": 14,
     "metadata": {},
     "output_type": "execute_result"
    },
    {
     "data": {
      "image/png": "[encoded data removed]",
      "text/plain": [
       "<Figure size 720x720 with 1 Axes>"
      ]
     },
     "metadata": {
      "needs_background": "light"
     },
     "output_type": "display_data"
    }
   ],
   "source": [
    "# Plot results\n",
    "import matplotlib.pyplot as plt\n",
    "from moo.contestant import draw_best_community_solutions\n",
    "fix, ax = plt.subplots(figsize=(10,10))\n",
    "ax, stats = draw_best_community_solutions(best_solutions, ax)\n",
    "ax.set_title(\"Fig 05 community detection, no perturbation\")\n",
    "ax.set_xlabel(\"\")\n",
    "ax.set_ylabel(\"Adjusted Rand Index\")\n",
    "ax.grid(axis='y', color = 'green', linestyle = '--', linewidth = 0.5)\n",
    "min_y = min(df.adj_rand_index.min(), 0) -0.1 # Accounts for BRIM results\n",
    "ax.set_ylim(min_y,1.1)\n",
    "\n"
   ]
  },
  {
   "cell_type": "markdown",
   "metadata": {},
   "source": [
    "## Load and plot results\n",
    "- Assumes results are generated and stored in path"
   ]
  },
  {
   "cell_type": "code",
   "execution_count": 15,
   "metadata": {},
   "outputs": [
    {
     "ename": "FileNotFoundError",
     "evalue": "[Errno 2] No such file or directory: './_temp\\\\results_fig06_nopert.csv'",
     "output_type": "error",
     "traceback": [
      "\u001b[1;31m---------------------------------------------------------------------------\u001b[0m",
      "\u001b[1;31mFileNotFoundError\u001b[0m                         Traceback (most recent call last)",
      "Input \u001b[1;32mIn [15]\u001b[0m, in \u001b[0;36m<cell line: 9>\u001b[1;34m()\u001b[0m\n\u001b[0;32m      9\u001b[0m \u001b[38;5;28;01mfor\u001b[39;00m tag \u001b[38;5;129;01min\u001b[39;00m tags:\n\u001b[0;32m     10\u001b[0m     pert\u001b[38;5;241m=\u001b[39m\u001b[38;5;124m'\u001b[39m\u001b[38;5;124mpert\u001b[39m\u001b[38;5;124m'\u001b[39m \u001b[38;5;28;01mif\u001b[39;00m shuffle \u001b[38;5;28;01melse\u001b[39;00m \u001b[38;5;124m'\u001b[39m\u001b[38;5;124mnopert\u001b[39m\u001b[38;5;124m'\u001b[39m\n\u001b[1;32m---> 11\u001b[0m     df \u001b[38;5;241m=\u001b[39m \u001b[43mpd\u001b[49m\u001b[38;5;241;43m.\u001b[39;49m\u001b[43mread_csv\u001b[49m\u001b[43m(\u001b[49m\u001b[43mos\u001b[49m\u001b[38;5;241;43m.\u001b[39;49m\u001b[43mpath\u001b[49m\u001b[38;5;241;43m.\u001b[39;49m\u001b[43mjoin\u001b[49m\u001b[43m(\u001b[49m\u001b[43mpath\u001b[49m\u001b[43m,\u001b[49m\u001b[43m \u001b[49m\u001b[38;5;124;43mf\u001b[39;49m\u001b[38;5;124;43m'\u001b[39;49m\u001b[38;5;124;43mresults_\u001b[39;49m\u001b[38;5;132;43;01m{\u001b[39;49;00m\u001b[43mtag\u001b[49m\u001b[38;5;132;43;01m}\u001b[39;49;00m\u001b[38;5;124;43m_\u001b[39;49m\u001b[38;5;132;43;01m{\u001b[39;49;00m\u001b[43mpert\u001b[49m\u001b[38;5;132;43;01m}\u001b[39;49;00m\u001b[38;5;124;43m.csv\u001b[39;49m\u001b[38;5;124;43m'\u001b[39;49m\u001b[43m)\u001b[49m\u001b[43m)\u001b[49m\n\u001b[0;32m     12\u001b[0m     best_solutions \u001b[38;5;241m=\u001b[39m get_best_community_solutions(df) \u001b[38;5;66;03m# Extract best solutions for each graph/algorithm pair\u001b[39;00m\n\u001b[0;32m     13\u001b[0m     \u001b[38;5;66;03m# Optional: Sort algorithms to match algorithm order in paper figures\u001b[39;00m\n\u001b[0;32m     14\u001b[0m     \u001b[38;5;66;03m# algo_order = {'walktrap':1, 'fastgreedy':2, 'edgebetweenness':3, 'multilevel':4, 'brim':5, 'multicriteria_3d':5, 'multicriteria_2d':6}\u001b[39;00m\n",
      "File \u001b[1;32m~\\AppData\\Local\\Programs\\Python\\Python310\\lib\\site-packages\\pandas\\util\\_decorators.py:311\u001b[0m, in \u001b[0;36mdeprecate_nonkeyword_arguments.<locals>.decorate.<locals>.wrapper\u001b[1;34m(*args, **kwargs)\u001b[0m\n\u001b[0;32m    305\u001b[0m \u001b[38;5;28;01mif\u001b[39;00m \u001b[38;5;28mlen\u001b[39m(args) \u001b[38;5;241m>\u001b[39m num_allow_args:\n\u001b[0;32m    306\u001b[0m     warnings\u001b[38;5;241m.\u001b[39mwarn(\n\u001b[0;32m    307\u001b[0m         msg\u001b[38;5;241m.\u001b[39mformat(arguments\u001b[38;5;241m=\u001b[39marguments),\n\u001b[0;32m    308\u001b[0m         \u001b[38;5;167;01mFutureWarning\u001b[39;00m,\n\u001b[0;32m    309\u001b[0m         stacklevel\u001b[38;5;241m=\u001b[39mstacklevel,\n\u001b[0;32m    310\u001b[0m     )\n\u001b[1;32m--> 311\u001b[0m \u001b[38;5;28;01mreturn\u001b[39;00m func(\u001b[38;5;241m*\u001b[39margs, \u001b[38;5;241m*\u001b[39m\u001b[38;5;241m*\u001b[39mkwargs)\n",
      "File \u001b[1;32m~\\AppData\\Local\\Programs\\Python\\Python310\\lib\\site-packages\\pandas\\io\\parsers\\readers.py:586\u001b[0m, in \u001b[0;36mread_csv\u001b[1;34m(filepath_or_buffer, sep, delimiter, header, names, index_col, usecols, squeeze, prefix, mangle_dupe_cols, dtype, engine, converters, true_values, false_values, skipinitialspace, skiprows, skipfooter, nrows, na_values, keep_default_na, na_filter, verbose, skip_blank_lines, parse_dates, infer_datetime_format, keep_date_col, date_parser, dayfirst, cache_dates, iterator, chunksize, compression, thousands, decimal, lineterminator, quotechar, quoting, doublequote, escapechar, comment, encoding, encoding_errors, dialect, error_bad_lines, warn_bad_lines, on_bad_lines, delim_whitespace, low_memory, memory_map, float_precision, storage_options)\u001b[0m\n\u001b[0;32m    571\u001b[0m kwds_defaults \u001b[38;5;241m=\u001b[39m _refine_defaults_read(\n\u001b[0;32m    572\u001b[0m     dialect,\n\u001b[0;32m    573\u001b[0m     delimiter,\n\u001b[1;32m   (...)\u001b[0m\n\u001b[0;32m    582\u001b[0m     defaults\u001b[38;5;241m=\u001b[39m{\u001b[38;5;124m\"\u001b[39m\u001b[38;5;124mdelimiter\u001b[39m\u001b[38;5;124m\"\u001b[39m: \u001b[38;5;124m\"\u001b[39m\u001b[38;5;124m,\u001b[39m\u001b[38;5;124m\"\u001b[39m},\n\u001b[0;32m    583\u001b[0m )\n\u001b[0;32m    584\u001b[0m kwds\u001b[38;5;241m.\u001b[39mupdate(kwds_defaults)\n\u001b[1;32m--> 586\u001b[0m \u001b[38;5;28;01mreturn\u001b[39;00m \u001b[43m_read\u001b[49m\u001b[43m(\u001b[49m\u001b[43mfilepath_or_buffer\u001b[49m\u001b[43m,\u001b[49m\u001b[43m \u001b[49m\u001b[43mkwds\u001b[49m\u001b[43m)\u001b[49m\n",
      "File \u001b[1;32m~\\AppData\\Local\\Programs\\Python\\Python310\\lib\\site-packages\\pandas\\io\\parsers\\readers.py:482\u001b[0m, in \u001b[0;36m_read\u001b[1;34m(filepath_or_buffer, kwds)\u001b[0m\n\u001b[0;32m    479\u001b[0m _validate_names(kwds\u001b[38;5;241m.\u001b[39mget(\u001b[38;5;124m\"\u001b[39m\u001b[38;5;124mnames\u001b[39m\u001b[38;5;124m\"\u001b[39m, \u001b[38;5;28;01mNone\u001b[39;00m))\n\u001b[0;32m    481\u001b[0m \u001b[38;5;66;03m# Create the parser.\u001b[39;00m\n\u001b[1;32m--> 482\u001b[0m parser \u001b[38;5;241m=\u001b[39m TextFileReader(filepath_or_buffer, \u001b[38;5;241m*\u001b[39m\u001b[38;5;241m*\u001b[39mkwds)\n\u001b[0;32m    484\u001b[0m \u001b[38;5;28;01mif\u001b[39;00m chunksize \u001b[38;5;129;01mor\u001b[39;00m iterator:\n\u001b[0;32m    485\u001b[0m     \u001b[38;5;28;01mreturn\u001b[39;00m parser\n",
      "File \u001b[1;32m~\\AppData\\Local\\Programs\\Python\\Python310\\lib\\site-packages\\pandas\\io\\parsers\\readers.py:811\u001b[0m, in \u001b[0;36mTextFileReader.__init__\u001b[1;34m(self, f, engine, **kwds)\u001b[0m\n\u001b[0;32m    808\u001b[0m \u001b[38;5;28;01mif\u001b[39;00m \u001b[38;5;124m\"\u001b[39m\u001b[38;5;124mhas_index_names\u001b[39m\u001b[38;5;124m\"\u001b[39m \u001b[38;5;129;01min\u001b[39;00m kwds:\n\u001b[0;32m    809\u001b[0m     \u001b[38;5;28mself\u001b[39m\u001b[38;5;241m.\u001b[39moptions[\u001b[38;5;124m\"\u001b[39m\u001b[38;5;124mhas_index_names\u001b[39m\u001b[38;5;124m\"\u001b[39m] \u001b[38;5;241m=\u001b[39m kwds[\u001b[38;5;124m\"\u001b[39m\u001b[38;5;124mhas_index_names\u001b[39m\u001b[38;5;124m\"\u001b[39m]\n\u001b[1;32m--> 811\u001b[0m \u001b[38;5;28mself\u001b[39m\u001b[38;5;241m.\u001b[39m_engine \u001b[38;5;241m=\u001b[39m \u001b[38;5;28;43mself\u001b[39;49m\u001b[38;5;241;43m.\u001b[39;49m\u001b[43m_make_engine\u001b[49m\u001b[43m(\u001b[49m\u001b[38;5;28;43mself\u001b[39;49m\u001b[38;5;241;43m.\u001b[39;49m\u001b[43mengine\u001b[49m\u001b[43m)\u001b[49m\n",
      "File \u001b[1;32m~\\AppData\\Local\\Programs\\Python\\Python310\\lib\\site-packages\\pandas\\io\\parsers\\readers.py:1040\u001b[0m, in \u001b[0;36mTextFileReader._make_engine\u001b[1;34m(self, engine)\u001b[0m\n\u001b[0;32m   1036\u001b[0m     \u001b[38;5;28;01mraise\u001b[39;00m \u001b[38;5;167;01mValueError\u001b[39;00m(\n\u001b[0;32m   1037\u001b[0m         \u001b[38;5;124mf\u001b[39m\u001b[38;5;124m\"\u001b[39m\u001b[38;5;124mUnknown engine: \u001b[39m\u001b[38;5;132;01m{\u001b[39;00mengine\u001b[38;5;132;01m}\u001b[39;00m\u001b[38;5;124m (valid options are \u001b[39m\u001b[38;5;132;01m{\u001b[39;00mmapping\u001b[38;5;241m.\u001b[39mkeys()\u001b[38;5;132;01m}\u001b[39;00m\u001b[38;5;124m)\u001b[39m\u001b[38;5;124m\"\u001b[39m\n\u001b[0;32m   1038\u001b[0m     )\n\u001b[0;32m   1039\u001b[0m \u001b[38;5;66;03m# error: Too many arguments for \"ParserBase\"\u001b[39;00m\n\u001b[1;32m-> 1040\u001b[0m \u001b[38;5;28;01mreturn\u001b[39;00m mapping[engine](\u001b[38;5;28mself\u001b[39m\u001b[38;5;241m.\u001b[39mf, \u001b[38;5;241m*\u001b[39m\u001b[38;5;241m*\u001b[39m\u001b[38;5;28mself\u001b[39m\u001b[38;5;241m.\u001b[39moptions)\n",
      "File \u001b[1;32m~\\AppData\\Local\\Programs\\Python\\Python310\\lib\\site-packages\\pandas\\io\\parsers\\c_parser_wrapper.py:51\u001b[0m, in \u001b[0;36mCParserWrapper.__init__\u001b[1;34m(self, src, **kwds)\u001b[0m\n\u001b[0;32m     48\u001b[0m kwds[\u001b[38;5;124m\"\u001b[39m\u001b[38;5;124musecols\u001b[39m\u001b[38;5;124m\"\u001b[39m] \u001b[38;5;241m=\u001b[39m \u001b[38;5;28mself\u001b[39m\u001b[38;5;241m.\u001b[39musecols\n\u001b[0;32m     50\u001b[0m \u001b[38;5;66;03m# open handles\u001b[39;00m\n\u001b[1;32m---> 51\u001b[0m \u001b[38;5;28;43mself\u001b[39;49m\u001b[38;5;241;43m.\u001b[39;49m\u001b[43m_open_handles\u001b[49m\u001b[43m(\u001b[49m\u001b[43msrc\u001b[49m\u001b[43m,\u001b[49m\u001b[43m \u001b[49m\u001b[43mkwds\u001b[49m\u001b[43m)\u001b[49m\n\u001b[0;32m     52\u001b[0m \u001b[38;5;28;01massert\u001b[39;00m \u001b[38;5;28mself\u001b[39m\u001b[38;5;241m.\u001b[39mhandles \u001b[38;5;129;01mis\u001b[39;00m \u001b[38;5;129;01mnot\u001b[39;00m \u001b[38;5;28;01mNone\u001b[39;00m\n\u001b[0;32m     54\u001b[0m \u001b[38;5;66;03m# Have to pass int, would break tests using TextReader directly otherwise :(\u001b[39;00m\n",
      "File \u001b[1;32m~\\AppData\\Local\\Programs\\Python\\Python310\\lib\\site-packages\\pandas\\io\\parsers\\base_parser.py:222\u001b[0m, in \u001b[0;36mParserBase._open_handles\u001b[1;34m(self, src, kwds)\u001b[0m\n\u001b[0;32m    218\u001b[0m \u001b[38;5;28;01mdef\u001b[39;00m \u001b[38;5;21m_open_handles\u001b[39m(\u001b[38;5;28mself\u001b[39m, src: FilePathOrBuffer, kwds: \u001b[38;5;28mdict\u001b[39m[\u001b[38;5;28mstr\u001b[39m, Any]) \u001b[38;5;241m-\u001b[39m\u001b[38;5;241m>\u001b[39m \u001b[38;5;28;01mNone\u001b[39;00m:\n\u001b[0;32m    219\u001b[0m     \u001b[38;5;124;03m\"\"\"\u001b[39;00m\n\u001b[0;32m    220\u001b[0m \u001b[38;5;124;03m    Let the readers open IOHandles after they are done with their potential raises.\u001b[39;00m\n\u001b[0;32m    221\u001b[0m \u001b[38;5;124;03m    \"\"\"\u001b[39;00m\n\u001b[1;32m--> 222\u001b[0m     \u001b[38;5;28mself\u001b[39m\u001b[38;5;241m.\u001b[39mhandles \u001b[38;5;241m=\u001b[39m \u001b[43mget_handle\u001b[49m\u001b[43m(\u001b[49m\n\u001b[0;32m    223\u001b[0m \u001b[43m        \u001b[49m\u001b[43msrc\u001b[49m\u001b[43m,\u001b[49m\n\u001b[0;32m    224\u001b[0m \u001b[43m        \u001b[49m\u001b[38;5;124;43m\"\u001b[39;49m\u001b[38;5;124;43mr\u001b[39;49m\u001b[38;5;124;43m\"\u001b[39;49m\u001b[43m,\u001b[49m\n\u001b[0;32m    225\u001b[0m \u001b[43m        \u001b[49m\u001b[43mencoding\u001b[49m\u001b[38;5;241;43m=\u001b[39;49m\u001b[43mkwds\u001b[49m\u001b[38;5;241;43m.\u001b[39;49m\u001b[43mget\u001b[49m\u001b[43m(\u001b[49m\u001b[38;5;124;43m\"\u001b[39;49m\u001b[38;5;124;43mencoding\u001b[39;49m\u001b[38;5;124;43m\"\u001b[39;49m\u001b[43m,\u001b[49m\u001b[43m \u001b[49m\u001b[38;5;28;43;01mNone\u001b[39;49;00m\u001b[43m)\u001b[49m\u001b[43m,\u001b[49m\n\u001b[0;32m    226\u001b[0m \u001b[43m        \u001b[49m\u001b[43mcompression\u001b[49m\u001b[38;5;241;43m=\u001b[39;49m\u001b[43mkwds\u001b[49m\u001b[38;5;241;43m.\u001b[39;49m\u001b[43mget\u001b[49m\u001b[43m(\u001b[49m\u001b[38;5;124;43m\"\u001b[39;49m\u001b[38;5;124;43mcompression\u001b[39;49m\u001b[38;5;124;43m\"\u001b[39;49m\u001b[43m,\u001b[49m\u001b[43m \u001b[49m\u001b[38;5;28;43;01mNone\u001b[39;49;00m\u001b[43m)\u001b[49m\u001b[43m,\u001b[49m\n\u001b[0;32m    227\u001b[0m \u001b[43m        \u001b[49m\u001b[43mmemory_map\u001b[49m\u001b[38;5;241;43m=\u001b[39;49m\u001b[43mkwds\u001b[49m\u001b[38;5;241;43m.\u001b[39;49m\u001b[43mget\u001b[49m\u001b[43m(\u001b[49m\u001b[38;5;124;43m\"\u001b[39;49m\u001b[38;5;124;43mmemory_map\u001b[39;49m\u001b[38;5;124;43m\"\u001b[39;49m\u001b[43m,\u001b[49m\u001b[43m \u001b[49m\u001b[38;5;28;43;01mFalse\u001b[39;49;00m\u001b[43m)\u001b[49m\u001b[43m,\u001b[49m\n\u001b[0;32m    228\u001b[0m \u001b[43m        \u001b[49m\u001b[43mstorage_options\u001b[49m\u001b[38;5;241;43m=\u001b[39;49m\u001b[43mkwds\u001b[49m\u001b[38;5;241;43m.\u001b[39;49m\u001b[43mget\u001b[49m\u001b[43m(\u001b[49m\u001b[38;5;124;43m\"\u001b[39;49m\u001b[38;5;124;43mstorage_options\u001b[39;49m\u001b[38;5;124;43m\"\u001b[39;49m\u001b[43m,\u001b[49m\u001b[43m \u001b[49m\u001b[38;5;28;43;01mNone\u001b[39;49;00m\u001b[43m)\u001b[49m\u001b[43m,\u001b[49m\n\u001b[0;32m    229\u001b[0m \u001b[43m        \u001b[49m\u001b[43merrors\u001b[49m\u001b[38;5;241;43m=\u001b[39;49m\u001b[43mkwds\u001b[49m\u001b[38;5;241;43m.\u001b[39;49m\u001b[43mget\u001b[49m\u001b[43m(\u001b[49m\u001b[38;5;124;43m\"\u001b[39;49m\u001b[38;5;124;43mencoding_errors\u001b[39;49m\u001b[38;5;124;43m\"\u001b[39;49m\u001b[43m,\u001b[49m\u001b[43m \u001b[49m\u001b[38;5;124;43m\"\u001b[39;49m\u001b[38;5;124;43mstrict\u001b[39;49m\u001b[38;5;124;43m\"\u001b[39;49m\u001b[43m)\u001b[49m\u001b[43m,\u001b[49m\n\u001b[0;32m    230\u001b[0m \u001b[43m    \u001b[49m\u001b[43m)\u001b[49m\n",
      "File \u001b[1;32m~\\AppData\\Local\\Programs\\Python\\Python310\\lib\\site-packages\\pandas\\io\\common.py:702\u001b[0m, in \u001b[0;36mget_handle\u001b[1;34m(path_or_buf, mode, encoding, compression, memory_map, is_text, errors, storage_options)\u001b[0m\n\u001b[0;32m    697\u001b[0m \u001b[38;5;28;01melif\u001b[39;00m \u001b[38;5;28misinstance\u001b[39m(handle, \u001b[38;5;28mstr\u001b[39m):\n\u001b[0;32m    698\u001b[0m     \u001b[38;5;66;03m# Check whether the filename is to be opened in binary mode.\u001b[39;00m\n\u001b[0;32m    699\u001b[0m     \u001b[38;5;66;03m# Binary mode does not support 'encoding' and 'newline'.\u001b[39;00m\n\u001b[0;32m    700\u001b[0m     \u001b[38;5;28;01mif\u001b[39;00m ioargs\u001b[38;5;241m.\u001b[39mencoding \u001b[38;5;129;01mand\u001b[39;00m \u001b[38;5;124m\"\u001b[39m\u001b[38;5;124mb\u001b[39m\u001b[38;5;124m\"\u001b[39m \u001b[38;5;129;01mnot\u001b[39;00m \u001b[38;5;129;01min\u001b[39;00m ioargs\u001b[38;5;241m.\u001b[39mmode:\n\u001b[0;32m    701\u001b[0m         \u001b[38;5;66;03m# Encoding\u001b[39;00m\n\u001b[1;32m--> 702\u001b[0m         handle \u001b[38;5;241m=\u001b[39m \u001b[38;5;28;43mopen\u001b[39;49m\u001b[43m(\u001b[49m\n\u001b[0;32m    703\u001b[0m \u001b[43m            \u001b[49m\u001b[43mhandle\u001b[49m\u001b[43m,\u001b[49m\n\u001b[0;32m    704\u001b[0m \u001b[43m            \u001b[49m\u001b[43mioargs\u001b[49m\u001b[38;5;241;43m.\u001b[39;49m\u001b[43mmode\u001b[49m\u001b[43m,\u001b[49m\n\u001b[0;32m    705\u001b[0m \u001b[43m            \u001b[49m\u001b[43mencoding\u001b[49m\u001b[38;5;241;43m=\u001b[39;49m\u001b[43mioargs\u001b[49m\u001b[38;5;241;43m.\u001b[39;49m\u001b[43mencoding\u001b[49m\u001b[43m,\u001b[49m\n\u001b[0;32m    706\u001b[0m \u001b[43m            \u001b[49m\u001b[43merrors\u001b[49m\u001b[38;5;241;43m=\u001b[39;49m\u001b[43merrors\u001b[49m\u001b[43m,\u001b[49m\n\u001b[0;32m    707\u001b[0m \u001b[43m            \u001b[49m\u001b[43mnewline\u001b[49m\u001b[38;5;241;43m=\u001b[39;49m\u001b[38;5;124;43m\"\u001b[39;49m\u001b[38;5;124;43m\"\u001b[39;49m\u001b[43m,\u001b[49m\n\u001b[0;32m    708\u001b[0m \u001b[43m        \u001b[49m\u001b[43m)\u001b[49m\n\u001b[0;32m    709\u001b[0m     \u001b[38;5;28;01melse\u001b[39;00m:\n\u001b[0;32m    710\u001b[0m         \u001b[38;5;66;03m# Binary mode\u001b[39;00m\n\u001b[0;32m    711\u001b[0m         handle \u001b[38;5;241m=\u001b[39m \u001b[38;5;28mopen\u001b[39m(handle, ioargs\u001b[38;5;241m.\u001b[39mmode)\n",
      "\u001b[1;31mFileNotFoundError\u001b[0m: [Errno 2] No such file or directory: './_temp\\\\results_fig06_nopert.csv'"
     ]
    },
    {
     "data": {
      "image/png": "[encoded data removed]",
      "text/plain": [
       "<Figure size 720x720 with 1 Axes>"
      ]
     },
     "metadata": {
      "needs_background": "light"
     },
     "output_type": "display_data"
    }
   ],
   "source": [
    "import pandas as pd\n",
    "import matplotlib.pyplot as plt\n",
    "from moo.contestant import get_best_community_solutions, draw_best_community_solutions\n",
    "\n",
    "tags = ['fig05', 'fig06', 'fig07', 'fig08', 'fig09_a', 'fig09_b']\n",
    "path = './_temp'\n",
    "shuffle = False\n",
    "\n",
    "for tag in tags:\n",
    "    pert='pert' if shuffle else 'nopert'\n",
    "    df = pd.read_csv(os.path.join(path, f'results_{tag}_{pert}.csv'))\n",
    "    best_solutions = get_best_community_solutions(df) # Extract best solutions for each graph/algorithm pair\n",
    "    # Optional: Sort algorithms to match algorithm order in paper figures\n",
    "    # algo_order = {'walktrap':1, 'fastgreedy':2, 'edgebetweenness':3, 'multilevel':4, 'brim':5, 'multicriteria_3d':5, 'multicriteria_2d':6}\n",
    "    algo_order = {'WT':1, 'FG':2, 'CE':3, 'ML':4, 'BRIM':5, '3d':6, '2d':7} # DEfine required order here\n",
    "    best_solutions['algo_order'] = best_solutions.name.map(algo_order)\n",
    "    best_solutions.sort_values(by=['algo_order'], axis=0, ascending=True, inplace=True, ignore_index=True)\n",
    "    fig, ax = plt.subplots(figsize=(10,10))\n",
    "    ax, stats = draw_best_community_solutions(best_solutions, ax)\n",
    "    ax.set_title(f\"{tag} community detection. Perturbation: {shuffle}\")\n",
    "    ax.set_xlabel(\"\")\n",
    "    ax.set_ylabel(\"Adjusted Rand Index\")\n",
    "    ax.grid(axis='y', color = 'green', linestyle = '--', linewidth = 0.5)\n",
    "    min_y = min(df.adj_rand_index.min(), 0) -0.1 # Accounts for BRIM results\n",
    "    ax.set_ylim(min_y,1.1)\n",
    "    fig.savefig(os.path.join(path, f'results_{tag}_{pert}.pdf'))\n",
    "\n"
   ]
  },
  {
   "cell_type": "markdown",
   "metadata": {},
   "source": [
    "## Fig 07 results plotting"
   ]
  },
  {
   "cell_type": "code",
   "execution_count": 14,
   "metadata": {},
   "outputs": [
    {
     "name": "stdout",
     "output_type": "stream",
     "text": [
      "<DataGenerator: ExpConfig: L=10, U=50, NumNodes=60, NumEdges=100, ML=0.5, MU=0.5, BC=0.1, NumGraphs=30, shuffle=False, seed=42>\n"
     ]
    }
   ],
   "source": [
    "# Regenerate Fig 07 using old code --> generate data\n",
    "expgen = DataGenerator(expconfig=fig07_expconfig)\n",
    "print(expgen)\n",
    "datagen = expgen.generate_data() # datagen is an iterator\n",
    "\n",
    "# Generate and save results\n",
    "from moo.utils import save_graphs_to_path\n",
    "path =\"./_temp/fig07_data_1_nonshuffled/\"\n",
    "os.makedirs(path, exist_ok=True)\n",
    "save_graphs_to_path(path, datagen)\n",
    "\n",
    "\n"
   ]
  },
  {
   "cell_type": "code",
   "execution_count": 15,
   "metadata": {},
   "outputs": [],
   "source": [
    "# Run legacy 3d and 2d code...\n",
    "# Please run multicriterion_3d.py and multicriterion_2d.py to generate results"
   ]
  },
  {
   "cell_type": "code",
   "execution_count": 16,
   "metadata": {},
   "outputs": [
    {
     "data": {
      "image/png": "[encoded data removed]",
      "text/plain": [
       "<Figure size 720x720 with 1 Axes>"
      ]
     },
     "metadata": {
      "needs_background": "light"
     },
     "output_type": "display_data"
    }
   ],
   "source": [
    "# load/plot results\n",
    "import pandas as pd\n",
    "import matplotlib.pyplot as plt\n",
    "from moo.contestant import get_best_community_solutions, draw_best_community_solutions\n",
    "path = './_temp/'\n",
    "shuffle = False\n",
    "df2 = pd.read_csv(os.path.join(path, 'fig_07_nopert_2d.csv'))\n",
    "df3 = pd.read_csv(os.path.join(path, 'fig_07_nopert_3d.csv'))\n",
    "df = pd.concat([df2,df3], axis=0, ignore_index=True)\n",
    "\n",
    "best_solutions = get_best_community_solutions(df) # Extract best solutions for each graph/algorithm pair\n",
    "# Optional: Sort algorithms to match algorithm order in paper figures\n",
    "# algo_order = {'walktrap':1, 'fastgreedy':2, 'edgebetweenness':3, 'multilevel':4, 'brim':5, 'multicriteria_3d':5, 'multicriteria_2d':6}\n",
    "algo_order = {'WT':1, 'FG':2, 'CE':3, 'ML':4, 'BRIM':5, '3d':6, '2d':7} # DEfine required order here\n",
    "best_solutions['algo_order'] = best_solutions.name.map(algo_order)\n",
    "best_solutions.sort_values(by=['algo_order'], axis=0, ascending=True, inplace=True, ignore_index=True)\n",
    "fig, ax = plt.subplots(figsize=(10,10))\n",
    "ax, stats = draw_best_community_solutions(best_solutions, ax)\n",
    "ax.set_title(f'Fig 07 results, legacy code. Perturbation: {shuffle}')\n",
    "ax.set_xlabel(\"\")\n",
    "ax.set_ylabel(\"Adjusted Rand Index\")\n",
    "ax.grid(axis='y', color = 'green', linestyle = '--', linewidth = 0.5)\n",
    "min_y = min(df.adj_rand_index.min(), 0) -0.1 # Accounts for BRIM results\n",
    "ax.set_ylim(min_y,1.1)\n",
    "fig.savefig(os.path.join(path, 'Fig 07 results, legacy code.pdf'))"
   ]
  }
 ],
 "metadata": {
  "kernelspec": {
   "display_name": "Python 3 (ipykernel)",
   "language": "python",
   "name": "python3"
  },
  "language_info": {
   "codemirror_mode": {
    "name": "ipython",
    "version": 3
   },
   "file_extension": ".py",
   "mimetype": "text/x-python",
   "name": "python",
   "nbconvert_exporter": "python",
   "pygments_lexer": "ipython3",
   "version": "3.10.1"
  }
 },
 "nbformat": 4,
 "nbformat_minor": 4
}
