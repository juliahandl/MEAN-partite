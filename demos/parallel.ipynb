{
 "cells": [
  {
   "cell_type": "markdown",
   "metadata": {},
   "source": [
    "# Parallel processing demo\n",
    "\n",
    "This notebook contains a brief demo of running experiments in parallel, and verifies that the results agree with running in series\n"
   ]
  },
  {
   "cell_type": "code",
   "execution_count": 1,
   "metadata": {},
   "outputs": [],
   "source": [
    "%load_ext autoreload\n",
    "%autoreload 2\n",
    "\n",
    "import igraph\n",
    "from moo.data_generation import ExpConfig, DataGenerator\n",
    "from moo.data_generation import ExpConfig, DataGenerator\n",
    "from moo.contestant import get_best_community_solutions, draw_best_community_solutions\n",
    "from moo.communities import run_parallel_communities\n",
    "import moo.contestant as contestant\n",
    "import matplotlib.pyplot as plt\n",
    "\n",
    "from joblib import Parallel, delayed\n",
    "\n",
    "\n",
    "import pandas as pd\n",
    "\n",
    "import time\n"
   ]
  },
  {
   "cell_type": "markdown",
   "metadata": {},
   "source": [
    "We first set up the experiment (i.e. the configuration of the set of graphs), and the algorithms we want to run on each graph.   \n",
    "\n",
    "Note that comDetMultiLevel doesn't appear to be deterministic - haven't investigted this further, as it's using the igraph method as a black box)"
   ]
  },
  {
   "cell_type": "code",
   "execution_count": 2,
   "metadata": {},
   "outputs": [],
   "source": [
    "expconfig = ExpConfig(\n",
    "    L=100, U=500,\n",
    "    NumEdges=1000, ML=0.4, MU=0.4,\n",
    "    BC=0.1, NumGraphs=30,\n",
    "    shuffle=True, \n",
    "    seed=1234  \n",
    "    )\n",
    "\n",
    "\n",
    "algos = [\n",
    "    #contestant.ComDetMultiLevel(), # Multi-Level approach\n",
    "    contestant.ComDetEdgeBetweenness(), # EdgeBetweenness approach\n",
    "    contestant.ComDetWalkTrap(), # WalkTrap approach\n",
    "    contestant.ComDetFastGreedy(), # FastGreedy approach\n",
    "]\n",
    "\n"
   ]
  },
  {
   "cell_type": "markdown",
   "metadata": {},
   "source": [
    "Then create the data generator iterators (we make two; one for the parallel run, and one for the series run to verify the answers are the same):\n",
    "\n"
   ]
  },
  {
   "cell_type": "code",
   "execution_count": 3,
   "metadata": {},
   "outputs": [],
   "source": [
    "expgen = DataGenerator(expconfig=expconfig) # Pass defined parameters\n",
    "\n",
    "datagenSeries = expgen.generate_data() \n",
    "datagenParallel = expgen.generate_data() \n"
   ]
  },
  {
   "cell_type": "markdown",
   "metadata": {},
   "source": [
    "We can then run the jobs in parallel:\n"
   ]
  },
  {
   "cell_type": "code",
   "execution_count": 4,
   "metadata": {},
   "outputs": [
    {
     "name": "stdout",
     "output_type": "stream",
     "text": [
      "Parallel time taken 52.01265597343445\n"
     ]
    }
   ],
   "source": [
    "start = time.time()\n",
    "parallelResults = run_parallel_communities(datagenParallel, algos, n_jobs = 7)\n",
    "\n",
    "parallelTime = time.time()-start\n",
    "print(\"Parallel time taken\", parallelTime)\n"
   ]
  },
  {
   "cell_type": "markdown",
   "metadata": {},
   "source": [
    "And run the same thing in series:"
   ]
  },
  {
   "cell_type": "code",
   "execution_count": 5,
   "metadata": {},
   "outputs": [
    {
     "ename": "KeyboardInterrupt",
     "evalue": "",
     "output_type": "error",
     "traceback": [
      "\u001b[0;31m---------------------------------------------------------------------------\u001b[0m",
      "\u001b[0;31mKeyboardInterrupt\u001b[0m                         Traceback (most recent call last)",
      "\u001b[1;32m/home/zzalsdme/mo-community-detection-bipartite/parallel.ipynb Cell 10'\u001b[0m in \u001b[0;36m<cell line: 4>\u001b[0;34m()\u001b[0m\n\u001b[1;32m      <a href='vscode-notebook-cell://wsl%2Bubuntu/home/zzalsdme/mo-community-detection-bipartite/parallel.ipynb#ch0000009vscode-remote?line=3'>4</a>\u001b[0m \u001b[39mfor\u001b[39;00m g_idx, graph \u001b[39min\u001b[39;00m \u001b[39menumerate\u001b[39m(datagenSeries):\n\u001b[1;32m      <a href='vscode-notebook-cell://wsl%2Bubuntu/home/zzalsdme/mo-community-detection-bipartite/parallel.ipynb#ch0000009vscode-remote?line=4'>5</a>\u001b[0m \u001b[39m#    print(f'Processing Graph {g_idx+1}')\u001b[39;00m\n\u001b[1;32m      <a href='vscode-notebook-cell://wsl%2Bubuntu/home/zzalsdme/mo-community-detection-bipartite/parallel.ipynb#ch0000009vscode-remote?line=5'>6</a>\u001b[0m     \u001b[39mfor\u001b[39;00m algo \u001b[39min\u001b[39;00m algos:\n\u001b[1;32m      <a href='vscode-notebook-cell://wsl%2Bubuntu/home/zzalsdme/mo-community-detection-bipartite/parallel.ipynb#ch0000009vscode-remote?line=6'>7</a>\u001b[0m \u001b[39m#        print(f'\\tUsing algoithm {algo.name_}')\u001b[39;00m\n\u001b[0;32m----> <a href='vscode-notebook-cell://wsl%2Bubuntu/home/zzalsdme/mo-community-detection-bipartite/parallel.ipynb#ch0000009vscode-remote?line=7'>8</a>\u001b[0m         result \u001b[39m=\u001b[39m algo\u001b[39m.\u001b[39;49mdetect_communities(graph\u001b[39m=\u001b[39;49mgraph)\u001b[39m.\u001b[39mget_results()\n\u001b[1;32m      <a href='vscode-notebook-cell://wsl%2Bubuntu/home/zzalsdme/mo-community-detection-bipartite/parallel.ipynb#ch0000009vscode-remote?line=8'>9</a>\u001b[0m         \u001b[39m# Result is a list of dictionaries, each dictionary stores the metrics of one iteration (see code for details)\u001b[39;00m\n\u001b[1;32m     <a href='vscode-notebook-cell://wsl%2Bubuntu/home/zzalsdme/mo-community-detection-bipartite/parallel.ipynb#ch0000009vscode-remote?line=9'>10</a>\u001b[0m         \u001b[39mfor\u001b[39;00m r \u001b[39min\u001b[39;00m result: \u001b[39m# Appending graph index to results, for debugging purposes\u001b[39;00m\n",
      "File \u001b[0;32m~/mo-community-detection-bipartite/moo/contestant.py:136\u001b[0m, in \u001b[0;36mComDetEdgeBetweenness.detect_communities\u001b[0;34m(self, graph, y)\u001b[0m\n\u001b[1;32m    <a href='file:///home/zzalsdme/mo-community-detection-bipartite/moo/contestant.py?line=133'>134</a>\u001b[0m \u001b[39mself\u001b[39m\u001b[39m.\u001b[39mresults_ \u001b[39m=\u001b[39m [] \u001b[39m# Reset results at each call\u001b[39;00m\n\u001b[1;32m    <a href='file:///home/zzalsdme/mo-community-detection-bipartite/moo/contestant.py?line=134'>135</a>\u001b[0m \u001b[39m# Community detection done here (results stored in self.results_)\u001b[39;00m\n\u001b[0;32m--> <a href='file:///home/zzalsdme/mo-community-detection-bipartite/moo/contestant.py?line=135'>136</a>\u001b[0m \u001b[39mself\u001b[39;49m\u001b[39m.\u001b[39;49m__detect_communitites()\n\u001b[1;32m    <a href='file:///home/zzalsdme/mo-community-detection-bipartite/moo/contestant.py?line=136'>137</a>\u001b[0m \u001b[39mreturn\u001b[39;00m \u001b[39mself\u001b[39m\n",
      "File \u001b[0;32m~/mo-community-detection-bipartite/moo/contestant.py:150\u001b[0m, in \u001b[0;36mComDetEdgeBetweenness.__detect_communitites\u001b[0;34m(self)\u001b[0m\n\u001b[1;32m    <a href='file:///home/zzalsdme/mo-community-detection-bipartite/moo/contestant.py?line=147'>148</a>\u001b[0m proj1 \u001b[39m=\u001b[39m [i \u001b[39mfor\u001b[39;00m i, val \u001b[39min\u001b[39;00m \u001b[39menumerate\u001b[39m(vertices) \u001b[39mif\u001b[39;00m val \u001b[39m==\u001b[39m \u001b[39m1\u001b[39m]\n\u001b[1;32m    <a href='file:///home/zzalsdme/mo-community-detection-bipartite/moo/contestant.py?line=148'>149</a>\u001b[0m graph_proj1, graph_proj2 \u001b[39m=\u001b[39m \u001b[39mself\u001b[39m\u001b[39m.\u001b[39mgraph_\u001b[39m.\u001b[39mbipartite_projection(multiplicity\u001b[39m=\u001b[39m\u001b[39mTrue\u001b[39;00m)\n\u001b[0;32m--> <a href='file:///home/zzalsdme/mo-community-detection-bipartite/moo/contestant.py?line=149'>150</a>\u001b[0m res_dendo \u001b[39m=\u001b[39m \u001b[39mself\u001b[39;49m\u001b[39m.\u001b[39;49mgraph_\u001b[39m.\u001b[39;49mcommunity_edge_betweenness(\u001b[39m*\u001b[39;49m\u001b[39m*\u001b[39;49m\u001b[39mself\u001b[39;49m\u001b[39m.\u001b[39;49mparams_)\n\u001b[1;32m    <a href='file:///home/zzalsdme/mo-community-detection-bipartite/moo/contestant.py?line=151'>152</a>\u001b[0m \u001b[39m# num_clusters = min(self.num_clusters_+ 1, len(self.graph_.vs))\u001b[39;00m\n\u001b[1;32m    <a href='file:///home/zzalsdme/mo-community-detection-bipartite/moo/contestant.py?line=152'>153</a>\u001b[0m min_num_clusters \u001b[39m=\u001b[39m \u001b[39mself\u001b[39m\u001b[39m.\u001b[39mmin_num_clusters_\n",
      "File \u001b[0;32m~/mo-community-detection-bipartite/bipartite/lib/python3.8/site-packages/igraph/__init__.py:1417\u001b[0m, in \u001b[0;36mGraph.community_edge_betweenness\u001b[0;34m(self, clusters, directed, weights)\u001b[0m\n\u001b[1;32m   <a href='file:///home/zzalsdme/mo-community-detection-bipartite/bipartite/lib/python3.8/site-packages/igraph/__init__.py?line=1390'>1391</a>\u001b[0m \u001b[39mdef\u001b[39;00m \u001b[39mcommunity_edge_betweenness\u001b[39m(\u001b[39mself\u001b[39m, clusters\u001b[39m=\u001b[39m\u001b[39mNone\u001b[39;00m, directed\u001b[39m=\u001b[39m\u001b[39mTrue\u001b[39;00m, weights\u001b[39m=\u001b[39m\u001b[39mNone\u001b[39;00m):\n\u001b[1;32m   <a href='file:///home/zzalsdme/mo-community-detection-bipartite/bipartite/lib/python3.8/site-packages/igraph/__init__.py?line=1391'>1392</a>\u001b[0m     \u001b[39m\"\"\"Community structure based on the betweenness of the edges in the\u001b[39;00m\n\u001b[1;32m   <a href='file:///home/zzalsdme/mo-community-detection-bipartite/bipartite/lib/python3.8/site-packages/igraph/__init__.py?line=1392'>1393</a>\u001b[0m \u001b[39m    network.\u001b[39;00m\n\u001b[1;32m   <a href='file:///home/zzalsdme/mo-community-detection-bipartite/bipartite/lib/python3.8/site-packages/igraph/__init__.py?line=1393'>1394</a>\u001b[0m \n\u001b[0;32m   (...)\u001b[0m\n\u001b[1;32m   <a href='file:///home/zzalsdme/mo-community-detection-bipartite/bipartite/lib/python3.8/site-packages/igraph/__init__.py?line=1414'>1415</a>\u001b[0m \u001b[39m      modularity or at the desired number of clusters.\u001b[39;00m\n\u001b[1;32m   <a href='file:///home/zzalsdme/mo-community-detection-bipartite/bipartite/lib/python3.8/site-packages/igraph/__init__.py?line=1415'>1416</a>\u001b[0m \u001b[39m    \"\"\"\u001b[39;00m\n\u001b[0;32m-> <a href='file:///home/zzalsdme/mo-community-detection-bipartite/bipartite/lib/python3.8/site-packages/igraph/__init__.py?line=1416'>1417</a>\u001b[0m     merges, qs \u001b[39m=\u001b[39m GraphBase\u001b[39m.\u001b[39;49mcommunity_edge_betweenness(\u001b[39mself\u001b[39;49m, directed, weights)\n\u001b[1;32m   <a href='file:///home/zzalsdme/mo-community-detection-bipartite/bipartite/lib/python3.8/site-packages/igraph/__init__.py?line=1417'>1418</a>\u001b[0m     \u001b[39mif\u001b[39;00m qs \u001b[39mis\u001b[39;00m \u001b[39mnot\u001b[39;00m \u001b[39mNone\u001b[39;00m:\n\u001b[1;32m   <a href='file:///home/zzalsdme/mo-community-detection-bipartite/bipartite/lib/python3.8/site-packages/igraph/__init__.py?line=1418'>1419</a>\u001b[0m         qs\u001b[39m.\u001b[39mreverse()\n",
      "\u001b[0;31mKeyboardInterrupt\u001b[0m: "
     ]
    }
   ],
   "source": [
    "\n",
    "start = time.time()\n",
    "\n",
    "seriesResults = [] # Holds results of contestants\n",
    "for g_idx, graph in enumerate(datagenSeries):\n",
    "#    print(f'Processing Graph {g_idx+1}')\n",
    "    for algo in algos:\n",
    "#        print(f'\\tUsing algoithm {algo.name_}')\n",
    "        result = algo.detect_communities(graph=graph).get_results()\n",
    "        # Result is a list of dictionaries, each dictionary stores the metrics of one iteration (see code for details)\n",
    "        for r in result: # Appending graph index to results, for debugging purposes\n",
    "            r['graph_idx'] = g_idx + 1\n",
    "        seriesResults.extend(result)\n",
    "\n",
    "seriesTime = time.time()-start\n",
    "print(\"Series time taken\", seriesTime)\n",
    "\n"
   ]
  },
  {
   "cell_type": "code",
   "execution_count": null,
   "metadata": {},
   "outputs": [
    {
     "name": "stdout",
     "output_type": "stream",
     "text": [
      "Speedup: 1.7355561625441716\n"
     ]
    }
   ],
   "source": [
    "print(\"Speedup:\", seriesTime/parallelTime)"
   ]
  },
  {
   "cell_type": "markdown",
   "metadata": {},
   "source": [
    "## Compare results\n",
    "\n",
    "In this section of the notebook we verify that both approaches give identical results\n"
   ]
  },
  {
   "cell_type": "code",
   "execution_count": null,
   "metadata": {},
   "outputs": [
    {
     "name": "stdout",
     "output_type": "stream",
     "text": [
      "True\n"
     ]
    }
   ],
   "source": [
    "df_Parallel = pd.DataFrame(parallelResults)\n",
    "df_Series = pd.DataFrame(seriesResults)\n",
    "\n",
    "print(df_Parallel.equals(df_Series))\n",
    "\n",
    "\n"
   ]
  }
 ],
 "metadata": {
  "interpreter": {
   "hash": "33ad9f79590881d5bbcfec08e36e950ffce416a048eb73d93f54046f025e58c5"
  },
  "kernelspec": {
   "display_name": "Python 3.8.10 ('bipartite': venv)",
   "language": "python",
   "name": "python3"
  },
  "language_info": {
   "codemirror_mode": {
    "name": "ipython",
    "version": 3
   },
   "file_extension": ".py",
   "mimetype": "text/x-python",
   "name": "python",
   "nbconvert_exporter": "python",
   "pygments_lexer": "ipython3",
   "version": "3.8.10"
  },
  "orig_nbformat": 4
 },
 "nbformat": 4,
 "nbformat_minor": 2
}
