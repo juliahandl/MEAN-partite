{
 "cells": [
  {
   "cell_type": "markdown",
   "metadata": {},
   "source": [
    "# Generate figures for the paper\n",
    "- Each figure corresponds to a different graph structure configuration\n",
    "- Please see the paper for details"
   ]
  },
  {
   "cell_type": "code",
   "execution_count": 1,
   "metadata": {},
   "outputs": [],
   "source": [
    "%load_ext autoreload\n",
    "%autoreload 2\n",
    "%matplotlib inline"
   ]
  },
  {
   "cell_type": "code",
   "execution_count": 2,
   "metadata": {},
   "outputs": [],
   "source": [
    "ConfigNumGraphs = 2"
   ]
  },
  {
   "cell_type": "markdown",
   "metadata": {},
   "source": [
    "## Define graph/experiment configurations for figures"
   ]
  },
  {
   "cell_type": "code",
   "execution_count": 3,
   "metadata": {},
   "outputs": [
    {
     "name": "stdout",
     "output_type": "stream",
     "text": [
      "Fig 05 <ExpConfig: L=2, U=30, NumNodes=32, NumEdges=200, ML=0.5, MU=0.5, BC=0.1, NumGraphs=2, shuffle=False, seed=42>\n"
     ]
    }
   ],
   "source": [
    "from moo.data_generation import ExpConfig, DataGenerator\n",
    "# Define configurations\n",
    "fig05_expconfig = ExpConfig(\n",
    "    L=30, U=30, NumEdges=200, ML=0.5, MU=0.5, BC=0.1, NumGraphs=ConfigNumGraphs,\n",
    "    shuffle=False,  # Change to shuffle\n",
    "    seed=None, # This is the default\n",
    ")\n",
    "print('Fig 05', fig05_expconfig)"
   ]
  },
  {
   "cell_type": "code",
   "execution_count": null,
   "metadata": {},
   "outputs": [],
   "source": []
  },
  {
   "cell_type": "code",
   "execution_count": 4,
   "metadata": {},
   "outputs": [
    {
     "name": "stdout",
     "output_type": "stream",
     "text": [
      "Fig 06  <ExpConfig: L=30, U=30, NumNodes=60, NumEdges=100, ML=0.5, MU=0.5, BC=0.1, NumGraphs=2, shuffle=False, seed=42>\n"
     ]
    }
   ],
   "source": [
    "fig06_expconfig = ExpConfig(\n",
    "    L=30, U=30, NumEdges=100, ML=0.5, MU=0.5, BC=0.1, NumGraphs=ConfigNumGraphs,\n",
    "    shuffle=False,\n",
    "    seed=None,\n",
    ")\n",
    "print('Fig 06 ', fig06_expconfig)"
   ]
  },
  {
   "cell_type": "code",
   "execution_count": 5,
   "metadata": {},
   "outputs": [
    {
     "name": "stdout",
     "output_type": "stream",
     "text": [
      "Fig 07  <ExpConfig: L=10, U=50, NumNodes=60, NumEdges=100, ML=0.5, MU=0.5, BC=0.1, NumGraphs=2, shuffle=False, seed=42>\n"
     ]
    }
   ],
   "source": [
    "fig07_expconfig = ExpConfig(\n",
    "    L=10, U=50, NumEdges=100, ML=0.5, MU=0.5, BC=0.1, NumGraphs=ConfigNumGraphs,\n",
    "    shuffle=False,\n",
    "    seed=None,\n",
    ")\n",
    "print('Fig 07 ', fig07_expconfig)"
   ]
  },
  {
   "cell_type": "code",
   "execution_count": 6,
   "metadata": {},
   "outputs": [
    {
     "name": "stdout",
     "output_type": "stream",
     "text": [
      "Fig 08  <ExpConfig: L=10, U=50, NumNodes=60, NumEdges=100, ML=0.5, MU=0.5, BC=0.2, NumGraphs=2, shuffle=False, seed=42>\n"
     ]
    }
   ],
   "source": [
    "fig08_expconfig = ExpConfig(\n",
    "    L=10, U=50, NumEdges=100, ML=0.5, MU=0.5, BC=0.2, NumGraphs=ConfigNumGraphs,\n",
    "    shuffle=False,\n",
    "    seed=None,\n",
    ")\n",
    "print('Fig 08 ', fig08_expconfig)"
   ]
  },
  {
   "cell_type": "code",
   "execution_count": 7,
   "metadata": {},
   "outputs": [
    {
     "name": "stdout",
     "output_type": "stream",
     "text": [
      "Fig 09 a  <ExpConfig: L=100, U=20, NumNodes=120, NumEdges=200, ML=0.4, MU=0.4, BC=0.2, NumGraphs=2, shuffle=False, seed=42>\n",
      "Fig 09 b  <ExpConfig: L=500, U=100, NumNodes=600, NumEdges=1000, ML=0.4, MU=0.4, BC=0.2, NumGraphs=2, shuffle=False, seed=42>\n"
     ]
    }
   ],
   "source": [
    "fig09_expconfig_a = ExpConfig(\n",
    "    L=100, U=20, NumEdges=200, ML=0.4, MU=0.4, BC=0.2, NumGraphs=ConfigNumGraphs,\n",
    "    shuffle=False,\n",
    "    seed=None,\n",
    ")\n",
    "fig09_expconfig_b = ExpConfig(\n",
    "    L=500, U=100, NumEdges=1000, ML=0.4, MU=0.4, BC=0.2, NumGraphs=ConfigNumGraphs,\n",
    "    shuffle=False,\n",
    "    seed=None,\n",
    ")\n",
    "print('Fig 09 a ', fig09_expconfig_a)\n",
    "print('Fig 09 b ', fig09_expconfig_b)"
   ]
  },
  {
   "cell_type": "markdown",
   "metadata": {},
   "source": [
    "## Run community detection algorithms/generate results"
   ]
  },
  {
   "cell_type": "markdown",
   "metadata": {},
   "source": [
    "### Setup and usage example"
   ]
  },
  {
   "cell_type": "code",
   "execution_count": 8,
   "metadata": {},
   "outputs": [],
   "source": [
    "from moo.multicriteria import ComDetMultiCriteria\n",
    "from moo.contestant import ComDetWalkTrap, ComDetFastGreedy, ComDetEdgeBetweenness, ComDetMultiLevel, ComDetBRIMNoPert\n",
    "\n",
    "# A utility function to generate data for each configuration, and run the community detection algorithms\n",
    "import pandas as pd\n",
    "def detect_communitites(expconfig, algorithms):\n",
    "    '''\n",
    "    Generates data as per expconfig parameters and runs community derection algorithms\n",
    "    '''\n",
    "\n",
    "    # Generate data\n",
    "    expgen = DataGenerator(expconfig=expconfig) # Pass defined parameters\n",
    "    print(expgen)\n",
    "    datagen = expgen.generate_data() # datagen is an iterator\n",
    "\n",
    "    results = [] # Holds results of community detection algorithms (list of dictionaries)\n",
    "    for g_idx, graph in enumerate(datagen):\n",
    "        # if g_idx >= 1: #num_graphs_to_run:\n",
    "        #     break\n",
    "        # else:\n",
    "        #print(f'Processing Graph {g_idx+1}')\n",
    "        for algo in algos:\n",
    "            #print(f'  Using algoithm {algo.name_} ... ', end='')\n",
    "            result = algo.detect_communities(graph=graph).get_results()\n",
    "            # Result is a list of dictionaries, each dictionary stores the metrics of one iteration (see code for details)\n",
    "            #print(f'Done')\n",
    "            for r in result: # Appending graph index to results, for debugging purposes\n",
    "                r['graph_idx'] = g_idx + 1\n",
    "            results.extend(result)\n",
    "    return results\n"
   ]
  },
  {
   "cell_type": "code",
   "execution_count": 9,
   "metadata": {},
   "outputs": [
    {
     "name": "stdout",
     "output_type": "stream",
     "text": [
      "<DataGenerator: ExpConfig: L=10, U=50, NumNodes=60, NumEdges=100, ML=0.5, MU=0.5, BC=0.2, NumGraphs=2, shuffle=False, seed=42>\n",
      "(98, 7) ['WT' 'FG' 'CE' 'ML' 'BRIM']\n"
     ]
    },
    {
     "data": {
      "text/plain": [
       "(-0.11431980906921242, 1.1)"
      ]
     },
     "execution_count": 9,
     "metadata": {},
     "output_type": "execute_result"
    },
    {
     "data": {
      "image/png": "[encoded data removed]",
      "text/plain": [
       "<Figure size 720x720 with 1 Axes>"
      ]
     },
     "metadata": {
      "needs_background": "light"
     },
     "output_type": "display_data"
    }
   ],
   "source": [
    "# Example usage (result generation and plotting)\n",
    "\n",
    "\n",
    "from moo.multicriteria import ComDetMultiCriteria\n",
    "from moo.contestant import ComDetWalkTrap, ComDetFastGreedy, ComDetEdgeBetweenness, ComDetMultiLevel, ComDetBRIMNoPert\n",
    "\n",
    "# Define algorithms to run\n",
    "algos = [\n",
    "    ComDetWalkTrap(name='WT'),\n",
    "    ComDetFastGreedy(name='FG'),\n",
    "    ComDetEdgeBetweenness(name='CE'),\n",
    "    ComDetMultiLevel(name='ML'),\n",
    "    ComDetBRIMNoPert(name='BRIM'),\n",
    "    # ComDetMultiCriteria(name='3d', params = {'mode': '3d', 'popsize': 50, 'termination': None, 'save_history': False, 'seed': None}),\n",
    "    # ComDetMultiCriteria(name='2d', params = {'mode': '2d', 'popsize': 50, 'termination': None, 'save_history': False, 'seed': None}),\n",
    "]\n",
    "\n",
    "# Run algorithms\n",
    "results = detect_communitites(fig08_expconfig, algos)\n",
    "df = pd.DataFrame(results) # Column names are inferred from the dictionaries' keys\n",
    "print(df.shape, df.name.unique())\n",
    "# df.head()\n",
    "\n",
    "# # Optional saving\n",
    "# path = \".\"\n",
    "# import os\n",
    "# os.makedirs(path, exist_ok=True) # Create the path if it does not exist\n",
    "# df.to_csv(os.path.join(path, 'results.csv'), index=None)\n",
    "\n",
    "# Extract best solutions for each graph/algorithm pair\n",
    "from moo.contestant import get_best_community_solutions, draw_best_community_solutions\n",
    "best_solutions = get_best_community_solutions(df)\n",
    "# Optional: Sort algorithms to match algorithm order in paper figures\n",
    "# algo_order = {'walktrap':1, 'fastgreedy':2, 'edgebetweenness':3, 'multilevel':4, 'brim':5, 'multicriteria_3d':5, 'multicriteria_2d':6}\n",
    "algo_order = {'WT':1, 'FG':2, 'CE':3, 'ML':4, 'BRIM':5, '3d':6, '2d':7} # DEfine required order here\n",
    "best_solutions['algo_order'] = best_solutions.name.map(algo_order)\n",
    "best_solutions.sort_values(by=['algo_order'], axis=0, ascending=True, inplace=True, ignore_index=True)\n",
    "# best_solutions.head()\n",
    "\n",
    "# Plot results\n",
    "import matplotlib.pyplot as plt\n",
    "from moo.contestant import draw_best_community_solutions\n",
    "fix, ax = plt.subplots(figsize=(10,10))\n",
    "ax, stats = draw_best_community_solutions(best_solutions, ax)\n",
    "ax.set_title(\"Fig 05 community detection, no perturbation\")\n",
    "ax.set_xlabel(\"\")\n",
    "ax.set_ylabel(\"Adjusted Rand Index\")\n",
    "min_y = min(df.adj_rand_index.min(), 0) -0.1 # Accounts for BRIM results\n",
    "ax.set_ylim(min_y,1.1)"
   ]
  },
  {
   "cell_type": "markdown",
   "metadata": {},
   "source": [
    "### Result generation and plotting"
   ]
  },
  {
   "cell_type": "code",
   "execution_count": 10,
   "metadata": {},
   "outputs": [
    {
     "name": "stdout",
     "output_type": "stream",
     "text": [
      "Generating results for  fig05  ... <DataGenerator: ExpConfig: L=2, U=30, NumNodes=32, NumEdges=200, ML=0.5, MU=0.5, BC=0.1, NumGraphs=2, shuffle=False, seed=42>\n"
     ]
    },
    {
     "ename": "ValueError",
     "evalue": "high <= 0",
     "output_type": "error",
     "traceback": [
      "\u001b[0;31m---------------------------------------------------------------------------\u001b[0m",
      "\u001b[0;31mValueError\u001b[0m                                Traceback (most recent call last)",
      "\u001b[1;32m/home/zzalsdme/mo-community-detection-bipartite/paper_figures.ipynb Cell 16'\u001b[0m in \u001b[0;36m<cell line: 15>\u001b[0;34m()\u001b[0m\n\u001b[1;32m     <a href='vscode-notebook-cell://wsl%2Bubuntu/home/zzalsdme/mo-community-detection-bipartite/paper_figures.ipynb#ch0000015vscode-remote?line=14'>15</a>\u001b[0m \u001b[39mfor\u001b[39;00m expconfig, tag \u001b[39min\u001b[39;00m \u001b[39mzip\u001b[39m(expconfigs, tags):\n\u001b[1;32m     <a href='vscode-notebook-cell://wsl%2Bubuntu/home/zzalsdme/mo-community-detection-bipartite/paper_figures.ipynb#ch0000015vscode-remote?line=15'>16</a>\u001b[0m     \u001b[39mprint\u001b[39m(\u001b[39m'\u001b[39m\u001b[39mGenerating results for \u001b[39m\u001b[39m'\u001b[39m, tag, \u001b[39m'\u001b[39m\u001b[39m ... \u001b[39m\u001b[39m'\u001b[39m, end\u001b[39m=\u001b[39m\u001b[39m'\u001b[39m\u001b[39m'\u001b[39m)\n\u001b[0;32m---> <a href='vscode-notebook-cell://wsl%2Bubuntu/home/zzalsdme/mo-community-detection-bipartite/paper_figures.ipynb#ch0000015vscode-remote?line=16'>17</a>\u001b[0m     results \u001b[39m=\u001b[39m detect_communitites(expconfig, algos)\n\u001b[1;32m     <a href='vscode-notebook-cell://wsl%2Bubuntu/home/zzalsdme/mo-community-detection-bipartite/paper_figures.ipynb#ch0000015vscode-remote?line=17'>18</a>\u001b[0m     df \u001b[39m=\u001b[39m pd\u001b[39m.\u001b[39mDataFrame(results) \u001b[39m# Column names are inferred from the dictionaries' keys\u001b[39;00m\n\u001b[1;32m     <a href='vscode-notebook-cell://wsl%2Bubuntu/home/zzalsdme/mo-community-detection-bipartite/paper_figures.ipynb#ch0000015vscode-remote?line=18'>19</a>\u001b[0m     \u001b[39m# print(df.shape, df.name.unique())\u001b[39;00m\n\u001b[1;32m     <a href='vscode-notebook-cell://wsl%2Bubuntu/home/zzalsdme/mo-community-detection-bipartite/paper_figures.ipynb#ch0000015vscode-remote?line=19'>20</a>\u001b[0m     \u001b[39m# df.head()\u001b[39;00m\n",
      "\u001b[1;32m/home/zzalsdme/mo-community-detection-bipartite/paper_figures.ipynb Cell 13'\u001b[0m in \u001b[0;36mdetect_communitites\u001b[0;34m(expconfig, algorithms)\u001b[0m\n\u001b[1;32m     <a href='vscode-notebook-cell://wsl%2Bubuntu/home/zzalsdme/mo-community-detection-bipartite/paper_figures.ipynb#ch0000012vscode-remote?line=13'>14</a>\u001b[0m datagen \u001b[39m=\u001b[39m expgen\u001b[39m.\u001b[39mgenerate_data() \u001b[39m# datagen is an iterator\u001b[39;00m\n\u001b[1;32m     <a href='vscode-notebook-cell://wsl%2Bubuntu/home/zzalsdme/mo-community-detection-bipartite/paper_figures.ipynb#ch0000012vscode-remote?line=15'>16</a>\u001b[0m results \u001b[39m=\u001b[39m [] \u001b[39m# Holds results of community detection algorithms (list of dictionaries)\u001b[39;00m\n\u001b[0;32m---> <a href='vscode-notebook-cell://wsl%2Bubuntu/home/zzalsdme/mo-community-detection-bipartite/paper_figures.ipynb#ch0000012vscode-remote?line=16'>17</a>\u001b[0m \u001b[39mfor\u001b[39;00m g_idx, graph \u001b[39min\u001b[39;00m \u001b[39menumerate\u001b[39m(datagen):\n\u001b[1;32m     <a href='vscode-notebook-cell://wsl%2Bubuntu/home/zzalsdme/mo-community-detection-bipartite/paper_figures.ipynb#ch0000012vscode-remote?line=17'>18</a>\u001b[0m     \u001b[39m# if g_idx >= 1: #num_graphs_to_run:\u001b[39;00m\n\u001b[1;32m     <a href='vscode-notebook-cell://wsl%2Bubuntu/home/zzalsdme/mo-community-detection-bipartite/paper_figures.ipynb#ch0000012vscode-remote?line=18'>19</a>\u001b[0m     \u001b[39m#     break\u001b[39;00m\n\u001b[1;32m     <a href='vscode-notebook-cell://wsl%2Bubuntu/home/zzalsdme/mo-community-detection-bipartite/paper_figures.ipynb#ch0000012vscode-remote?line=19'>20</a>\u001b[0m     \u001b[39m# else:\u001b[39;00m\n\u001b[1;32m     <a href='vscode-notebook-cell://wsl%2Bubuntu/home/zzalsdme/mo-community-detection-bipartite/paper_figures.ipynb#ch0000012vscode-remote?line=20'>21</a>\u001b[0m     \u001b[39m#print(f'Processing Graph {g_idx+1}')\u001b[39;00m\n\u001b[1;32m     <a href='vscode-notebook-cell://wsl%2Bubuntu/home/zzalsdme/mo-community-detection-bipartite/paper_figures.ipynb#ch0000012vscode-remote?line=21'>22</a>\u001b[0m     \u001b[39mfor\u001b[39;00m algo \u001b[39min\u001b[39;00m algos:\n\u001b[1;32m     <a href='vscode-notebook-cell://wsl%2Bubuntu/home/zzalsdme/mo-community-detection-bipartite/paper_figures.ipynb#ch0000012vscode-remote?line=22'>23</a>\u001b[0m         \u001b[39m#print(f'  Using algoithm {algo.name_} ... ', end='')\u001b[39;00m\n\u001b[1;32m     <a href='vscode-notebook-cell://wsl%2Bubuntu/home/zzalsdme/mo-community-detection-bipartite/paper_figures.ipynb#ch0000012vscode-remote?line=23'>24</a>\u001b[0m         result \u001b[39m=\u001b[39m algo\u001b[39m.\u001b[39mdetect_communities(graph\u001b[39m=\u001b[39mgraph)\u001b[39m.\u001b[39mget_results()\n",
      "File \u001b[0;32m~/mo-community-detection-bipartite/moo/data_generation.py:57\u001b[0m, in \u001b[0;36mDataGenerator.generate_data\u001b[0;34m(self)\u001b[0m\n\u001b[1;32m     <a href='file:///home/zzalsdme/mo-community-detection-bipartite/moo/data_generation.py?line=54'>55</a>\u001b[0m \u001b[39mwhile\u001b[39;00m added \u001b[39m==\u001b[39m \u001b[39mFalse\u001b[39;00m:\n\u001b[1;32m     <a href='file:///home/zzalsdme/mo-community-detection-bipartite/moo/data_generation.py?line=55'>56</a>\u001b[0m     \u001b[39mif\u001b[39;00m dice \u001b[39m<\u001b[39m\u001b[39m=\u001b[39m \u001b[39m50\u001b[39m\u001b[39m-\u001b[39mBC\u001b[39m/\u001b[39m\u001b[39m2\u001b[39m:\n\u001b[0;32m---> <a href='file:///home/zzalsdme/mo-community-detection-bipartite/moo/data_generation.py?line=56'>57</a>\u001b[0m         index1 \u001b[39m=\u001b[39m rng\u001b[39m.\u001b[39;49mintegers(\u001b[39m0\u001b[39;49m,L\u001b[39m*\u001b[39;49mML\u001b[39m-\u001b[39;49m\u001b[39m1\u001b[39;49m) \u001b[39m# class 0 vertex (in Lower graph part)\u001b[39;00m\n\u001b[1;32m     <a href='file:///home/zzalsdme/mo-community-detection-bipartite/moo/data_generation.py?line=57'>58</a>\u001b[0m         index2 \u001b[39m=\u001b[39m rng\u001b[39m.\u001b[39mintegers(L,L\u001b[39m+\u001b[39mU\u001b[39m*\u001b[39mMU\u001b[39m-\u001b[39m\u001b[39m1\u001b[39m) \u001b[39m# class 0 vertex (in Upper graph part)\u001b[39;00m\n\u001b[1;32m     <a href='file:///home/zzalsdme/mo-community-detection-bipartite/moo/data_generation.py?line=58'>59</a>\u001b[0m     \u001b[39melif\u001b[39;00m dice \u001b[39m<\u001b[39m\u001b[39m=\u001b[39m \u001b[39m50\u001b[39m:\n",
      "File \u001b[0;32m_generator.pyx:540\u001b[0m, in \u001b[0;36mnumpy.random._generator.Generator.integers\u001b[0;34m()\u001b[0m\n",
      "File \u001b[0;32m_bounded_integers.pyx:1247\u001b[0m, in \u001b[0;36mnumpy.random._bounded_integers._rand_int64\u001b[0;34m()\u001b[0m\n",
      "\u001b[0;31mValueError\u001b[0m: high <= 0"
     ]
    }
   ],
   "source": [
    "expconfigs = [fig05_expconfig] #, fig06_expconfig, fig07_expconfig, fig08_expconfig, fig09_expconfig_a, fig09_expconfig_b]#[:1]\n",
    "tags = ['fig05'] #, 'fig06', 'fig07', 'fig08', 'fig09_a', 'fig09_b']#[:1]\n",
    "\n",
    "from pymoo.factory import get_termination\n",
    "algos = [\n",
    "    ComDetWalkTrap(name='WT'),\n",
    "    ComDetFastGreedy(name='FG'),\n",
    "    ComDetEdgeBetweenness(name='CE'),\n",
    "    ComDetMultiLevel(name='ML'),\n",
    "    ComDetBRIMNoPert(name='BRIM'),\n",
    "    ComDetMultiCriteria(name='3d', params = {'mode': '3d', 'popsize': 50, 'termination': get_termination('n_gen', 50), 'save_history': False, 'seed': None}),\n",
    "    ComDetMultiCriteria(name='2d', params = {'mode': '2d', 'popsize': 50, 'termination': get_termination('n_gen', 50), 'save_history': False, 'seed': None}),\n",
    "]\n",
    "\n",
    "for expconfig, tag in zip(expconfigs, tags):\n",
    "    print('Generating results for ', tag, ' ... ', end='')\n",
    "    results = detect_communitites(expconfig, algos)\n",
    "    df = pd.DataFrame(results) # Column names are inferred from the dictionaries' keys\n",
    "    # print(df.shape, df.name.unique())\n",
    "    # df.head()\n",
    "    path = \"./_temp\"\n",
    "    import os\n",
    "    import pickle\n",
    "    os.makedirs(path, exist_ok=True) # Create the path if it does not exist\n",
    "    df.to_csv(os.path.join(path, f'results_{tag}_nopert.csv'), index=None)\n",
    "    pickle.dump(df, open(os.path.join(path, f'results_{tag}_brim_nopert.pickle'), 'wb'))\n",
    "    \n"
   ]
  },
  {
   "cell_type": "code",
   "execution_count": null,
   "metadata": {},
   "outputs": [],
   "source": [
    "# Extract best solutions for each graph/algorithm pair\n",
    "from moo.contestant import get_best_community_solutions, draw_best_community_solutions\n",
    "best_solutions = get_best_community_solutions(df)\n",
    "# Optional: Sort algorithms to match algorithm order in paper figures\n",
    "# algo_order = {'walktrap':1, 'fastgreedy':2, 'edgebetweenness':3, 'multilevel':4, 'brim':5, 'multicriteria_3d':5, 'multicriteria_2d':6}\n",
    "algo_order = {'WT':1, 'FG':2, 'CE':3, 'ML':4, 'BRIM':5, '3d':6, '2d':7} # DEfine required order here\n",
    "best_solutions['algo_order'] = best_solutions.name.map(algo_order)\n",
    "best_solutions.sort_values(by=['algo_order'], axis=0, ascending=True, inplace=True, ignore_index=True)\n",
    "best_solutions.head()"
   ]
  },
  {
   "cell_type": "code",
   "execution_count": null,
   "metadata": {},
   "outputs": [],
   "source": [
    "# Plot results\n",
    "import matplotlib.pyplot as plt\n",
    "from moo.contestant import draw_best_community_solutions\n",
    "fix, ax = plt.subplots(figsize=(10,10))\n",
    "ax, stats = draw_best_community_solutions(best_solutions, ax)\n",
    "ax.set_title(\"Fig 05 community detection, no perturbation\")\n",
    "ax.set_xlabel(\"\")\n",
    "ax.set_ylabel(\"Adjusted Rand Index\")\n",
    "ax.grid(axis='y', color = 'green', linestyle = '--', linewidth = 0.5)\n",
    "min_y = min(df.adj_rand_index.min(), 0) -0.1 # Accounts for BRIM results\n",
    "ax.set_ylim(min_y,1.1)\n",
    "\n"
   ]
  },
  {
   "cell_type": "markdown",
   "metadata": {},
   "source": [
    "## Load and plot results\n",
    "- Assumes results are generated and stored in path"
   ]
  },
  {
   "cell_type": "code",
   "execution_count": null,
   "metadata": {},
   "outputs": [],
   "source": [
    "import pandas as pd\n",
    "import matplotlib.pyplot as plt\n",
    "from moo.contestant import get_best_community_solutions, draw_best_community_solutions\n",
    "\n",
    "tags = ['fig05', 'fig06', 'fig07', 'fig08', 'fig09_a', 'fig09_b']\n",
    "path = './_temp'\n",
    "shuffle = False\n",
    "\n",
    "for tag in tags:\n",
    "    pert='pert' if shuffle else 'nopert'\n",
    "    df = pd.read_csv(os.path.join(path, f'results_{tag}_{pert}.csv'))\n",
    "    best_solutions = get_best_community_solutions(df) # Extract best solutions for each graph/algorithm pair\n",
    "    # Optional: Sort algorithms to match algorithm order in paper figures\n",
    "    # algo_order = {'walktrap':1, 'fastgreedy':2, 'edgebetweenness':3, 'multilevel':4, 'brim':5, 'multicriteria_3d':5, 'multicriteria_2d':6}\n",
    "    algo_order = {'WT':1, 'FG':2, 'CE':3, 'ML':4, 'BRIM':5, '3d':6, '2d':7} # DEfine required order here\n",
    "    best_solutions['algo_order'] = best_solutions.name.map(algo_order)\n",
    "    best_solutions.sort_values(by=['algo_order'], axis=0, ascending=True, inplace=True, ignore_index=True)\n",
    "    fig, ax = plt.subplots(figsize=(10,10))\n",
    "    ax, stats = draw_best_community_solutions(best_solutions, ax)\n",
    "    ax.set_title(f\"{tag} community detection. Perturbation: {shuffle}\")\n",
    "    ax.set_xlabel(\"\")\n",
    "    ax.set_ylabel(\"Adjusted Rand Index\")\n",
    "    ax.grid(axis='y', color = 'green', linestyle = '--', linewidth = 0.5)\n",
    "    min_y = min(df.adj_rand_index.min(), 0) -0.1 # Accounts for BRIM results\n",
    "    ax.set_ylim(min_y,1.1)\n",
    "    fig.savefig(os.path.join(path, f'results_{tag}_{pert}.pdf'))\n",
    "\n"
   ]
  },
  {
   "cell_type": "markdown",
   "metadata": {},
   "source": [
    "## Fig 07 results plotting"
   ]
  },
  {
   "cell_type": "code",
   "execution_count": null,
   "metadata": {},
   "outputs": [],
   "source": [
    "# Regenerate Fig 07 using old code --> generate data\n",
    "expgen = DataGenerator(expconfig=fig07_expconfig)\n",
    "print(expgen)\n",
    "datagen = expgen.generate_data() # datagen is an iterator\n",
    "\n",
    "# Generate and save results\n",
    "from moo.utils import save_graphs_to_path\n",
    "path =\"./_temp/fig07_data_1_nonshuffled/\"\n",
    "os.makedirs(path, exist_ok=True)\n",
    "save_graphs_to_path(path, datagen)\n",
    "\n",
    "\n"
   ]
  },
  {
   "cell_type": "code",
   "execution_count": null,
   "metadata": {},
   "outputs": [],
   "source": [
    "# Run legacy 3d and 2d code...\n",
    "# Please run multicriterion_3d.py and multicriterion_2d.py to generate results"
   ]
  },
  {
   "cell_type": "code",
   "execution_count": null,
   "metadata": {},
   "outputs": [],
   "source": [
    "# load/plot results\n",
    "import pandas as pd\n",
    "import matplotlib.pyplot as plt\n",
    "from moo.contestant import get_best_community_solutions, draw_best_community_solutions\n",
    "path = './_temp/'\n",
    "shuffle = False\n",
    "df2 = pd.read_csv(os.path.join(path, 'fig_07_nopert_2d.csv'))\n",
    "df3 = pd.read_csv(os.path.join(path, 'fig_07_nopert_3d.csv'))\n",
    "df = pd.concat([df2,df3], axis=0, ignore_index=True)\n",
    "\n",
    "best_solutions = get_best_community_solutions(df) # Extract best solutions for each graph/algorithm pair\n",
    "# Optional: Sort algorithms to match algorithm order in paper figures\n",
    "# algo_order = {'walktrap':1, 'fastgreedy':2, 'edgebetweenness':3, 'multilevel':4, 'brim':5, 'multicriteria_3d':5, 'multicriteria_2d':6}\n",
    "algo_order = {'WT':1, 'FG':2, 'CE':3, 'ML':4, 'BRIM':5, '3d':6, '2d':7} # DEfine required order here\n",
    "best_solutions['algo_order'] = best_solutions.name.map(algo_order)\n",
    "best_solutions.sort_values(by=['algo_order'], axis=0, ascending=True, inplace=True, ignore_index=True)\n",
    "fig, ax = plt.subplots(figsize=(10,10))\n",
    "ax, stats = draw_best_community_solutions(best_solutions, ax)\n",
    "ax.set_title(f'Fig 07 results, legacy code. Perturbation: {shuffle}')\n",
    "ax.set_xlabel(\"\")\n",
    "ax.set_ylabel(\"Adjusted Rand Index\")\n",
    "ax.grid(axis='y', color = 'green', linestyle = '--', linewidth = 0.5)\n",
    "min_y = min(df.adj_rand_index.min(), 0) -0.1 # Accounts for BRIM results\n",
    "ax.set_ylim(min_y,1.1)\n",
    "fig.savefig(os.path.join(path, 'Fig 07 results, legacy code.pdf'))"
   ]
  }
 ],
 "metadata": {
  "kernelspec": {
   "display_name": "Python 3",
   "language": "python",
   "name": "python3"
  },
  "language_info": {
   "codemirror_mode": {
    "name": "ipython",
    "version": 3
   },
   "file_extension": ".py",
   "mimetype": "text/x-python",
   "name": "python",
   "nbconvert_exporter": "python",
   "pygments_lexer": "ipython3",
   "version": "3.8.10"
  }
 },
 "nbformat": 4,
 "nbformat_minor": 4
}
