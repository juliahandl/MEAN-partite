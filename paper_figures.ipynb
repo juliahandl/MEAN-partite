{
 "cells": [
  {
   "cell_type": "markdown",
   "metadata": {},
   "source": [
    "# Generate figures for the paper\n",
    "- Each figure corresponds to a different graph structure configuration\n",
    "- Please see the paper for details"
   ]
  },
  {
   "cell_type": "code",
   "execution_count": 1,
   "metadata": {},
   "outputs": [],
   "source": [
    "%load_ext autoreload\n",
    "%autoreload 2\n",
    "%matplotlib inline"
   ]
  },
  {
   "cell_type": "markdown",
   "metadata": {},
   "source": [
    "## Define graph/experiment configurations for figures"
   ]
  },
  {
   "cell_type": "code",
   "execution_count": 2,
   "metadata": {},
   "outputs": [
    {
     "name": "stdout",
     "output_type": "stream",
     "text": [
      "Fig 05 <ExpConfig: L=30, U=30, NumNodes=60, NumEdges=200, ML=0.5, MU=0.5, BC=0.1, NumGraphs=30, shuffle=False, seed=42>\n"
     ]
    }
   ],
   "source": [
    "from moo.data_generation import ExpConfig, DataGenerator\n",
    "# Define configurations\n",
    "fig05_expconfig = ExpConfig(\n",
    "    L=30, U=30, NumEdges=200, ML=0.5, MU=0.5, BC=0.1, NumGraphs=30,\n",
    "    shuffle=False,  # Change to shuffle\n",
    "    seed=None, # This is the default\n",
    ")\n",
    "print('Fig 05', fig05_expconfig)"
   ]
  },
  {
   "cell_type": "code",
   "execution_count": 3,
   "metadata": {},
   "outputs": [
    {
     "name": "stdout",
     "output_type": "stream",
     "text": [
      "Fig 06  <ExpConfig: L=30, U=30, NumNodes=60, NumEdges=100, ML=0.5, MU=0.5, BC=0.1, NumGraphs=30, shuffle=False, seed=42>\n"
     ]
    }
   ],
   "source": [
    "fig06_expconfig = ExpConfig(\n",
    "    L=30, U=30, NumEdges=100, ML=0.5, MU=0.5, BC=0.1, NumGraphs=30,\n",
    "    shuffle=False,\n",
    "    seed=None,\n",
    ")\n",
    "print('Fig 06 ', fig06_expconfig)"
   ]
  },
  {
   "cell_type": "code",
   "execution_count": 4,
   "metadata": {},
   "outputs": [
    {
     "name": "stdout",
     "output_type": "stream",
     "text": [
      "Fig 07  <ExpConfig: L=10, U=50, NumNodes=60, NumEdges=100, ML=0.5, MU=0.5, BC=0.1, NumGraphs=30, shuffle=False, seed=42>\n"
     ]
    }
   ],
   "source": [
    "fig07_expconfig = ExpConfig(\n",
    "    L=10, U=50, NumEdges=100, ML=0.5, MU=0.5, BC=0.1, NumGraphs=30,\n",
    "    shuffle=False,\n",
    "    seed=None,\n",
    ")\n",
    "print('Fig 07 ', fig07_expconfig)"
   ]
  },
  {
   "cell_type": "code",
   "execution_count": 5,
   "metadata": {},
   "outputs": [
    {
     "name": "stdout",
     "output_type": "stream",
     "text": [
      "Fig 08  <ExpConfig: L=10, U=50, NumNodes=60, NumEdges=100, ML=0.5, MU=0.5, BC=0.2, NumGraphs=30, shuffle=False, seed=42>\n"
     ]
    }
   ],
   "source": [
    "fig08_expconfig = ExpConfig(\n",
    "    L=10, U=50, NumEdges=100, ML=0.5, MU=0.5, BC=0.2, NumGraphs=30,\n",
    "    shuffle=False,\n",
    "    seed=None,\n",
    ")\n",
    "print('Fig 08 ', fig08_expconfig)"
   ]
  },
  {
   "cell_type": "code",
   "execution_count": 6,
   "metadata": {},
   "outputs": [
    {
     "name": "stdout",
     "output_type": "stream",
     "text": [
      "Fig 09 a  <ExpConfig: L=100, U=20, NumNodes=120, NumEdges=200, ML=0.4, MU=0.4, BC=0.2, NumGraphs=30, shuffle=False, seed=42>\n",
      "Fig 09 b  <ExpConfig: L=500, U=100, NumNodes=600, NumEdges=1000, ML=0.4, MU=0.4, BC=0.2, NumGraphs=30, shuffle=False, seed=42>\n"
     ]
    }
   ],
   "source": [
    "fig09_expconfig_a = ExpConfig(\n",
    "    L=100, U=20, NumEdges=200, ML=0.4, MU=0.4, BC=0.2, NumGraphs=30,\n",
    "    shuffle=False,\n",
    "    seed=None,\n",
    ")\n",
    "fig09_expconfig_b = ExpConfig(\n",
    "    L=500, U=100, NumEdges=1000, ML=0.4, MU=0.4, BC=0.2, NumGraphs=30,\n",
    "    shuffle=False,\n",
    "    seed=None,\n",
    ")\n",
    "print('Fig 09 a ', fig09_expconfig_a)\n",
    "print('Fig 09 b ', fig09_expconfig_b)"
   ]
  },
  {
   "cell_type": "markdown",
   "metadata": {},
   "source": [
    "## Run community detection algorithms/generate results"
   ]
  },
  {
   "cell_type": "markdown",
   "metadata": {},
   "source": [
    "### Setup and usage example"
   ]
  },
  {
   "cell_type": "code",
   "execution_count": 7,
   "metadata": {},
   "outputs": [],
   "source": [
    "from moo.multicriteria import ComDetMultiCriteria\n",
    "from moo.contestant import ComDetWalkTrap, ComDetFastGreedy, ComDetEdgeBetweenness, ComDetMultiLevel, ComDetBRIMNoPert\n",
    "\n",
    "# A utility function to generate data for each configuration, and run the community detection algorithms\n",
    "import pandas as pd\n",
    "def detect_communitites(expconfig, algorithms):\n",
    "    '''\n",
    "    Generates data as per expconfig parameters and runs community derection algorithms\n",
    "    '''\n",
    "\n",
    "    # Generate data\n",
    "    expgen = DataGenerator(expconfig=expconfig) # Pass defined parameters\n",
    "    print(expgen)\n",
    "    datagen = expgen.generate_data() # datagen is an iterator\n",
    "\n",
    "    results = [] # Holds results of community detection algorithms (list of dictionaries)\n",
    "    for g_idx, graph in enumerate(datagen):\n",
    "        # if g_idx >= 1: #num_graphs_to_run:\n",
    "        #     break\n",
    "        # else:\n",
    "        print(f'Processing Graph {g_idx+1}')\n",
    "        for algo in algos:\n",
    "            print(f'  Using algoithm {algo.name_} ... ', end='')\n",
    "            result = algo.detect_communities(graph=graph).get_results()\n",
    "            # Result is a list of dictionaries, each dictionary stores the metrics of one iteration (see code for details)\n",
    "            print(f'Done')\n",
    "            for r in result: # Appending graph index to results, for debugging purposes\n",
    "                r['graph_idx'] = g_idx + 1\n",
    "            results.extend(result)\n",
    "    return results\n"
   ]
  },
  {
   "cell_type": "code",
   "execution_count": 57,
   "metadata": {},
   "outputs": [
    {
     "name": "stdout",
     "output_type": "stream",
     "text": [
      "<DataGenerator: ExpConfig: L=10, U=50, NumNodes=60, NumEdges=100, ML=0.5, MU=0.5, BC=0.2, NumGraphs=30, shuffle=False, seed=42>\n",
      "Processing Graph 1\n",
      "  Using algoithm WT ... Done\n",
      "  Using algoithm FG ... Done\n",
      "  Using algoithm CE ... Done\n",
      "  Using algoithm ML ... Done\n",
      "  Using algoithm BRIM ... Done\n",
      "Processing Graph 2\n",
      "  Using algoithm WT ... Done\n",
      "  Using algoithm FG ... Done\n",
      "  Using algoithm CE ... Done\n",
      "  Using algoithm ML ... Done\n",
      "  Using algoithm BRIM ... Done\n",
      "Processing Graph 3\n",
      "  Using algoithm WT ... Done\n",
      "  Using algoithm FG ... Done\n",
      "  Using algoithm CE ... Done\n",
      "  Using algoithm ML ... Done\n",
      "  Using algoithm BRIM ... Done\n",
      "Processing Graph 4\n",
      "  Using algoithm WT ... Done\n",
      "  Using algoithm FG ... Done\n",
      "  Using algoithm CE ... Done\n",
      "  Using algoithm ML ... Done\n",
      "  Using algoithm BRIM ... Done\n",
      "Processing Graph 5\n",
      "  Using algoithm WT ... Done\n",
      "  Using algoithm FG ... Done\n",
      "  Using algoithm CE ... Done\n",
      "  Using algoithm ML ... Done\n",
      "  Using algoithm BRIM ... Done\n",
      "Processing Graph 6\n",
      "  Using algoithm WT ... Done\n",
      "  Using algoithm FG ... Done\n",
      "  Using algoithm CE ... Done\n",
      "  Using algoithm ML ... Done\n",
      "  Using algoithm BRIM ... Done\n",
      "Processing Graph 7\n",
      "  Using algoithm WT ... Done\n",
      "  Using algoithm FG ... Done\n",
      "  Using algoithm CE ... Done\n",
      "  Using algoithm ML ... Done\n",
      "  Using algoithm BRIM ... Done\n",
      "Processing Graph 8\n",
      "  Using algoithm WT ... Done\n",
      "  Using algoithm FG ... Done\n",
      "  Using algoithm CE ... Done\n",
      "  Using algoithm ML ... Done\n",
      "  Using algoithm BRIM ... Done\n",
      "Processing Graph 9\n",
      "  Using algoithm WT ... Done\n",
      "  Using algoithm FG ... Done\n",
      "  Using algoithm CE ... Done\n",
      "  Using algoithm ML ... Done\n",
      "  Using algoithm BRIM ... Done\n",
      "Processing Graph 10\n",
      "  Using algoithm WT ... Done\n",
      "  Using algoithm FG ... Done\n",
      "  Using algoithm CE ... Done\n",
      "  Using algoithm ML ... Done\n",
      "  Using algoithm BRIM ... Done\n",
      "Processing Graph 11\n",
      "  Using algoithm WT ... Done\n",
      "  Using algoithm FG ... Done\n",
      "  Using algoithm CE ... Done\n",
      "  Using algoithm ML ... Done\n",
      "  Using algoithm BRIM ... Done\n",
      "Processing Graph 12\n",
      "  Using algoithm WT ... Done\n",
      "  Using algoithm FG ... Done\n",
      "  Using algoithm CE ... Done\n",
      "  Using algoithm ML ... Done\n",
      "  Using algoithm BRIM ... Done\n",
      "Processing Graph 13\n",
      "  Using algoithm WT ... Done\n",
      "  Using algoithm FG ... Done\n",
      "  Using algoithm CE ... Done\n",
      "  Using algoithm ML ... Done\n",
      "  Using algoithm BRIM ... Done\n",
      "Processing Graph 14\n",
      "  Using algoithm WT ... Done\n",
      "  Using algoithm FG ... Done\n",
      "  Using algoithm CE ... Done\n",
      "  Using algoithm ML ... Done\n",
      "  Using algoithm BRIM ... Done\n",
      "Processing Graph 15\n",
      "  Using algoithm WT ... Done\n",
      "  Using algoithm FG ... Done\n",
      "  Using algoithm CE ... Done\n",
      "  Using algoithm ML ... Done\n",
      "  Using algoithm BRIM ... Done\n",
      "Processing Graph 16\n",
      "  Using algoithm WT ... Done\n",
      "  Using algoithm FG ... Done\n",
      "  Using algoithm CE ... Done\n",
      "  Using algoithm ML ... Done\n",
      "  Using algoithm BRIM ... Done\n",
      "Processing Graph 17\n",
      "  Using algoithm WT ... Done\n",
      "  Using algoithm FG ... Done\n",
      "  Using algoithm CE ... Done\n",
      "  Using algoithm ML ... Done\n",
      "  Using algoithm BRIM ... Done\n",
      "Processing Graph 18\n",
      "  Using algoithm WT ... Done\n",
      "  Using algoithm FG ... Done\n",
      "  Using algoithm CE ... Done\n",
      "  Using algoithm ML ... Done\n",
      "  Using algoithm BRIM ... Done\n",
      "Processing Graph 19\n",
      "  Using algoithm WT ... Done\n",
      "  Using algoithm FG ... Done\n",
      "  Using algoithm CE ... Done\n",
      "  Using algoithm ML ... Done\n",
      "  Using algoithm BRIM ... Done\n",
      "Processing Graph 20\n",
      "  Using algoithm WT ... Done\n",
      "  Using algoithm FG ... Done\n",
      "  Using algoithm CE ... Done\n",
      "  Using algoithm ML ... Done\n",
      "  Using algoithm BRIM ... Done\n",
      "Processing Graph 21\n",
      "  Using algoithm WT ... Done\n",
      "  Using algoithm FG ... Done\n",
      "  Using algoithm CE ... Done\n",
      "  Using algoithm ML ... Done\n",
      "  Using algoithm BRIM ... Done\n",
      "Processing Graph 22\n",
      "  Using algoithm WT ... Done\n",
      "  Using algoithm FG ... Done\n",
      "  Using algoithm CE ... Done\n",
      "  Using algoithm ML ... Done\n",
      "  Using algoithm BRIM ... Done\n",
      "Processing Graph 23\n",
      "  Using algoithm WT ... Done\n",
      "  Using algoithm FG ... Done\n",
      "  Using algoithm CE ... Done\n",
      "  Using algoithm ML ... Done\n",
      "  Using algoithm BRIM ... Done\n",
      "Processing Graph 24\n",
      "  Using algoithm WT ... Done\n",
      "  Using algoithm FG ... Done\n",
      "  Using algoithm CE ... Done\n",
      "  Using algoithm ML ... Done\n",
      "  Using algoithm BRIM ... Done\n",
      "Processing Graph 25\n",
      "  Using algoithm WT ... Done\n",
      "  Using algoithm FG ... Done\n",
      "  Using algoithm CE ... Done\n",
      "  Using algoithm ML ... Done\n",
      "  Using algoithm BRIM ... Done\n",
      "Processing Graph 26\n",
      "  Using algoithm WT ... Done\n",
      "  Using algoithm FG ... Done\n",
      "  Using algoithm CE ... Done\n",
      "  Using algoithm ML ... Done\n",
      "  Using algoithm BRIM ... Done\n",
      "Processing Graph 27\n",
      "  Using algoithm WT ... Done\n",
      "  Using algoithm FG ... Done\n",
      "  Using algoithm CE ... Done\n",
      "  Using algoithm ML ... Done\n",
      "  Using algoithm BRIM ... Done\n",
      "Processing Graph 28\n",
      "  Using algoithm WT ... Done\n",
      "  Using algoithm FG ... Done\n",
      "  Using algoithm CE ... Done\n",
      "  Using algoithm ML ... Done\n",
      "  Using algoithm BRIM ... Done\n",
      "Processing Graph 29\n",
      "  Using algoithm WT ... Done\n",
      "  Using algoithm FG ... Done\n",
      "  Using algoithm CE ... Done\n",
      "  Using algoithm ML ... Done\n",
      "  Using algoithm BRIM ... Done\n",
      "Processing Graph 30\n",
      "  Using algoithm WT ... Done\n",
      "  Using algoithm FG ... Done\n",
      "  Using algoithm CE ... Done\n",
      "  Using algoithm ML ... Done\n",
      "  Using algoithm BRIM ... Done\n",
      "(1475, 7) ['WT' 'FG' 'CE' 'ML' 'BRIM']\n"
     ]
    },
    {
     "data": {
      "text/plain": [
       "(-0.12688653880623768, 1.1)"
      ]
     },
     "execution_count": 57,
     "metadata": {},
     "output_type": "execute_result"
    },
    {
     "data": {
      "image/png": "[encoded data removed]",
      "text/plain": [
       "<Figure size 720x720 with 1 Axes>"
      ]
     },
     "metadata": {
      "needs_background": "light"
     },
     "output_type": "display_data"
    }
   ],
   "source": [
    "# Example usage (result generation and plotting)\n",
    "\n",
    "\n",
    "from moo.multicriteria import ComDetMultiCriteria\n",
    "from moo.contestant import ComDetWalkTrap, ComDetFastGreedy, ComDetEdgeBetweenness, ComDetMultiLevel, ComDetBRIMNoPert\n",
    "\n",
    "# Define algorithms to run\n",
    "algos = [\n",
    "    ComDetWalkTrap(name='WT'),\n",
    "    ComDetFastGreedy(name='FG'),\n",
    "    ComDetEdgeBetweenness(name='CE'),\n",
    "    ComDetMultiLevel(name='ML'),\n",
    "    ComDetBRIMNoPert(name='BRIM'),\n",
    "    # ComDetMultiCriteria(name='3d', params = {'mode': '3d', 'popsize': 50, 'termination': None, 'save_history': False, 'seed': None}),\n",
    "    # ComDetMultiCriteria(name='2d', params = {'mode': '2d', 'popsize': 50, 'termination': None, 'save_history': False, 'seed': None}),\n",
    "]\n",
    "\n",
    "# Run algorithms\n",
    "results = detect_communitites(fig08_expconfig, algos)\n",
    "df = pd.DataFrame(results) # Column names are inferred from the dictionaries' keys\n",
    "print(df.shape, df.name.unique())\n",
    "# df.head()\n",
    "\n",
    "# # Optional saving\n",
    "# path = \".\"\n",
    "# import os\n",
    "# os.makedirs(path, exist_ok=True) # Create the path if it does not exist\n",
    "# df.to_csv(os.path.join(path, 'results.csv'), index=None)\n",
    "\n",
    "# Extract best solutions for each graph/algorithm pair\n",
    "from moo.contestant import get_best_community_solutions, draw_best_community_solutions\n",
    "best_solutions = get_best_community_solutions(df)\n",
    "# Optional: Sort algorithms to match algorithm order in paper figures\n",
    "# algo_order = {'walktrap':1, 'fastgreedy':2, 'edgebetweenness':3, 'multilevel':4, 'brim':5, 'multicriteria_3d':5, 'multicriteria_2d':6}\n",
    "algo_order = {'WT':1, 'FG':2, 'CE':3, 'ML':4, 'BRIM':5, '3d':6, '2d':7} # DEfine required order here\n",
    "best_solutions['algo_order'] = best_solutions.name.map(algo_order)\n",
    "best_solutions.sort_values(by=['algo_order'], axis=0, ascending=True, inplace=True, ignore_index=True)\n",
    "# best_solutions.head()\n",
    "\n",
    "# Plot results\n",
    "import matplotlib.pyplot as plt\n",
    "from moo.contestant import draw_best_community_solutions\n",
    "fix, ax = plt.subplots(figsize=(10,10))\n",
    "ax, stats = draw_best_community_solutions(best_solutions, ax)\n",
    "ax.set_title(\"Fig 05 community detection, no perturbation\")\n",
    "ax.set_xlabel(\"\")\n",
    "ax.set_ylabel(\"Adjusted Rand Index\")\n",
    "min_y = min(df.adj_rand_index.min(), 0) -0.1 # Accounts for BRIM results\n",
    "ax.set_ylim(min_y,1.1)"
   ]
  },
  {
   "cell_type": "markdown",
   "metadata": {},
   "source": [
    "### Result generation and plotting"
   ]
  },
  {
   "cell_type": "code",
   "execution_count": 54,
   "metadata": {},
   "outputs": [
    {
     "name": "stdout",
     "output_type": "stream",
     "text": [
      "Generating results for  fig05  ... <DataGenerator: ExpConfig: L=30, U=30, NumNodes=60, NumEdges=200, ML=0.5, MU=0.5, BC=0.1, NumGraphs=30, shuffle=False, seed=42>\n",
      "Processing Graph 1\n",
      "  Using algoithm WT ... Done\n",
      "  Using algoithm FG ... Done\n",
      "  Using algoithm CE ... Done\n",
      "  Using algoithm ML ... Done\n",
      "  Using algoithm BRIM ... Done\n",
      "  Using algoithm 3d ... Done\n",
      "  Using algoithm 2d ... Done\n",
      "Processing Graph 2\n",
      "  Using algoithm WT ... Done\n",
      "  Using algoithm FG ... Done\n",
      "  Using algoithm CE ... Done\n",
      "  Using algoithm ML ... Done\n",
      "  Using algoithm BRIM ... Done\n",
      "  Using algoithm 3d ... Done\n",
      "  Using algoithm 2d ... Done\n",
      "Processing Graph 3\n",
      "  Using algoithm WT ... Done\n",
      "  Using algoithm FG ... Done\n",
      "  Using algoithm CE ... Done\n",
      "  Using algoithm ML ... Done\n",
      "  Using algoithm BRIM ... Done\n",
      "  Using algoithm 3d ... Done\n",
      "  Using algoithm 2d ... Done\n",
      "Processing Graph 4\n",
      "  Using algoithm WT ... Done\n",
      "  Using algoithm FG ... Done\n",
      "  Using algoithm CE ... Done\n",
      "  Using algoithm ML ... Done\n",
      "  Using algoithm BRIM ... Done\n",
      "  Using algoithm 3d ... Done\n",
      "  Using algoithm 2d ... Done\n",
      "Processing Graph 5\n",
      "  Using algoithm WT ... Done\n",
      "  Using algoithm FG ... Done\n",
      "  Using algoithm CE ... Done\n",
      "  Using algoithm ML ... Done\n",
      "  Using algoithm BRIM ... Done\n",
      "  Using algoithm 3d ... Done\n",
      "  Using algoithm 2d ... Done\n",
      "Processing Graph 6\n",
      "  Using algoithm WT ... Done\n",
      "  Using algoithm FG ... Done\n",
      "  Using algoithm CE ... Done\n",
      "  Using algoithm ML ... Done\n",
      "  Using algoithm BRIM ... Done\n",
      "  Using algoithm 3d ... Done\n",
      "  Using algoithm 2d ... Done\n",
      "Processing Graph 7\n",
      "  Using algoithm WT ... Done\n",
      "  Using algoithm FG ... Done\n",
      "  Using algoithm CE ... Done\n",
      "  Using algoithm ML ... Done\n",
      "  Using algoithm BRIM ... Done\n",
      "  Using algoithm 3d ... Done\n",
      "  Using algoithm 2d ... Done\n",
      "Processing Graph 8\n",
      "  Using algoithm WT ... Done\n",
      "  Using algoithm FG ... Done\n",
      "  Using algoithm CE ... Done\n",
      "  Using algoithm ML ... Done\n",
      "  Using algoithm BRIM ... Done\n",
      "  Using algoithm 3d ... Done\n",
      "  Using algoithm 2d ... Done\n",
      "Processing Graph 9\n",
      "  Using algoithm WT ... Done\n",
      "  Using algoithm FG ... Done\n",
      "  Using algoithm CE ... Done\n",
      "  Using algoithm ML ... Done\n",
      "  Using algoithm BRIM ... Done\n",
      "  Using algoithm 3d ... Done\n",
      "  Using algoithm 2d ... Done\n",
      "Processing Graph 10\n",
      "  Using algoithm WT ... Done\n",
      "  Using algoithm FG ... Done\n",
      "  Using algoithm CE ... Done\n",
      "  Using algoithm ML ... Done\n",
      "  Using algoithm BRIM ... Done\n",
      "  Using algoithm 3d ... Done\n",
      "  Using algoithm 2d ... Done\n",
      "Processing Graph 11\n",
      "  Using algoithm WT ... Done\n",
      "  Using algoithm FG ... Done\n",
      "  Using algoithm CE ... Done\n",
      "  Using algoithm ML ... Done\n",
      "  Using algoithm BRIM ... Done\n",
      "  Using algoithm 3d ... Done\n",
      "  Using algoithm 2d ... Done\n",
      "Processing Graph 12\n",
      "  Using algoithm WT ... Done\n",
      "  Using algoithm FG ... Done\n",
      "  Using algoithm CE ... Done\n",
      "  Using algoithm ML ... Done\n",
      "  Using algoithm BRIM ... Done\n",
      "  Using algoithm 3d ... Done\n",
      "  Using algoithm 2d ... Done\n",
      "Processing Graph 13\n",
      "  Using algoithm WT ... Done\n",
      "  Using algoithm FG ... Done\n",
      "  Using algoithm CE ... Done\n",
      "  Using algoithm ML ... Done\n",
      "  Using algoithm BRIM ... Done\n",
      "  Using algoithm 3d ... Done\n",
      "  Using algoithm 2d ... Done\n",
      "Processing Graph 14\n",
      "  Using algoithm WT ... Done\n",
      "  Using algoithm FG ... Done\n",
      "  Using algoithm CE ... Done\n",
      "  Using algoithm ML ... Done\n",
      "  Using algoithm BRIM ... Done\n",
      "  Using algoithm 3d ... Done\n",
      "  Using algoithm 2d ... Done\n",
      "Processing Graph 15\n",
      "  Using algoithm WT ... Done\n",
      "  Using algoithm FG ... Done\n",
      "  Using algoithm CE ... Done\n",
      "  Using algoithm ML ... Done\n",
      "  Using algoithm BRIM ... Done\n",
      "  Using algoithm 3d ... Done\n",
      "  Using algoithm 2d ... Done\n",
      "Processing Graph 16\n",
      "  Using algoithm WT ... Done\n",
      "  Using algoithm FG ... Done\n",
      "  Using algoithm CE ... Done\n",
      "  Using algoithm ML ... Done\n",
      "  Using algoithm BRIM ... Done\n",
      "  Using algoithm 3d ... Done\n",
      "  Using algoithm 2d ... Done\n",
      "Processing Graph 17\n",
      "  Using algoithm WT ... Done\n",
      "  Using algoithm FG ... Done\n",
      "  Using algoithm CE ... Done\n",
      "  Using algoithm ML ... Done\n",
      "  Using algoithm BRIM ... Done\n",
      "  Using algoithm 3d ... Done\n",
      "  Using algoithm 2d ... Done\n",
      "Processing Graph 18\n",
      "  Using algoithm WT ... Done\n",
      "  Using algoithm FG ... Done\n",
      "  Using algoithm CE ... Done\n",
      "  Using algoithm ML ... Done\n",
      "  Using algoithm BRIM ... Done\n",
      "  Using algoithm 3d ... Done\n",
      "  Using algoithm 2d ... Done\n",
      "Processing Graph 19\n",
      "  Using algoithm WT ... Done\n",
      "  Using algoithm FG ... Done\n",
      "  Using algoithm CE ... Done\n",
      "  Using algoithm ML ... Done\n",
      "  Using algoithm BRIM ... Done\n",
      "  Using algoithm 3d ... Done\n",
      "  Using algoithm 2d ... Done\n",
      "Processing Graph 20\n",
      "  Using algoithm WT ... Done\n",
      "  Using algoithm FG ... Done\n",
      "  Using algoithm CE ... Done\n",
      "  Using algoithm ML ... Done\n",
      "  Using algoithm BRIM ... Done\n",
      "  Using algoithm 3d ... Done\n",
      "  Using algoithm 2d ... Done\n",
      "Processing Graph 21\n",
      "  Using algoithm WT ... Done\n",
      "  Using algoithm FG ... Done\n",
      "  Using algoithm CE ... Done\n",
      "  Using algoithm ML ... Done\n",
      "  Using algoithm BRIM ... Done\n",
      "  Using algoithm 3d ... Done\n",
      "  Using algoithm 2d ... Done\n",
      "Processing Graph 22\n",
      "  Using algoithm WT ... Done\n",
      "  Using algoithm FG ... Done\n",
      "  Using algoithm CE ... Done\n",
      "  Using algoithm ML ... Done\n",
      "  Using algoithm BRIM ... Done\n",
      "  Using algoithm 3d ... Done\n",
      "  Using algoithm 2d ... Done\n",
      "Processing Graph 23\n",
      "  Using algoithm WT ... Done\n",
      "  Using algoithm FG ... Done\n",
      "  Using algoithm CE ... Done\n",
      "  Using algoithm ML ... Done\n",
      "  Using algoithm BRIM ... Done\n",
      "  Using algoithm 3d ... Done\n",
      "  Using algoithm 2d ... Done\n",
      "Processing Graph 24\n",
      "  Using algoithm WT ... Done\n",
      "  Using algoithm FG ... Done\n",
      "  Using algoithm CE ... Done\n",
      "  Using algoithm ML ... Done\n",
      "  Using algoithm BRIM ... Done\n",
      "  Using algoithm 3d ... Done\n",
      "  Using algoithm 2d ... Done\n",
      "Processing Graph 25\n",
      "  Using algoithm WT ... Done\n",
      "  Using algoithm FG ... Done\n",
      "  Using algoithm CE ... Done\n",
      "  Using algoithm ML ... Done\n",
      "  Using algoithm BRIM ... Done\n",
      "  Using algoithm 3d ... Done\n",
      "  Using algoithm 2d ... Done\n",
      "Processing Graph 26\n",
      "  Using algoithm WT ... Done\n",
      "  Using algoithm FG ... Done\n",
      "  Using algoithm CE ... Done\n",
      "  Using algoithm ML ... Done\n",
      "  Using algoithm BRIM ... Done\n",
      "  Using algoithm 3d ... Done\n",
      "  Using algoithm 2d ... Done\n",
      "Processing Graph 27\n",
      "  Using algoithm WT ... Done\n",
      "  Using algoithm FG ... Done\n",
      "  Using algoithm CE ... Done\n",
      "  Using algoithm ML ... Done\n",
      "  Using algoithm BRIM ... Done\n",
      "  Using algoithm 3d ... Done\n",
      "  Using algoithm 2d ... Done\n",
      "Processing Graph 28\n",
      "  Using algoithm WT ... Done\n",
      "  Using algoithm FG ... Done\n",
      "  Using algoithm CE ... Done\n",
      "  Using algoithm ML ... Done\n",
      "  Using algoithm BRIM ... Done\n",
      "  Using algoithm 3d ... Done\n",
      "  Using algoithm 2d ... Done\n",
      "Processing Graph 29\n",
      "  Using algoithm WT ... Done\n",
      "  Using algoithm FG ... Done\n",
      "  Using algoithm CE ... Done\n",
      "  Using algoithm ML ... Done\n",
      "  Using algoithm BRIM ... Done\n",
      "  Using algoithm 3d ... Done\n",
      "  Using algoithm 2d ... Done\n",
      "Processing Graph 30\n",
      "  Using algoithm WT ... Done\n",
      "  Using algoithm FG ... Done\n",
      "  Using algoithm CE ... Done\n",
      "  Using algoithm ML ... Done\n",
      "  Using algoithm BRIM ... Done\n",
      "  Using algoithm 3d ... Done\n",
      "  Using algoithm 2d ... Done\n"
     ]
    }
   ],
   "source": [
    "expconfigs = [fig05_expconfig, fig06_expconfig, fig07_expconfig, fig08_expconfig, fig09_expconfig_a, fig09_expconfig_b][:1]\n",
    "tags = ['fig05', 'fig06', 'fig07', 'fig08', 'fig09_a', 'fig09_b'][:1]\n",
    "\n",
    "algos = [\n",
    "    ComDetWalkTrap(name='WT'),\n",
    "    ComDetFastGreedy(name='FG'),\n",
    "    ComDetEdgeBetweenness(name='CE'),\n",
    "    ComDetMultiLevel(name='ML'),\n",
    "    ComDetBRIMNoPert(name='BRIM'),\n",
    "    ComDetMultiCriteria(name='3d', params = {'mode': '3d', 'popsize': 50, 'termination': None, 'save_history': False, 'seed': None}),\n",
    "    ComDetMultiCriteria(name='2d', params = {'mode': '2d', 'popsize': 50, 'termination': None, 'save_history': False, 'seed': None}),\n",
    "]\n",
    "\n",
    "for expconfig, tag in zip(expconfigs, tags):\n",
    "    print('Generating results for ', tag, ' ... ', end='')\n",
    "    results = detect_communitites(expconfig, algos)\n",
    "    df = pd.DataFrame(results) # Column names are inferred from the dictionaries' keys\n",
    "    # print(df.shape, df.name.unique())\n",
    "    # df.head()\n",
    "    path = \"./_temp\"\n",
    "    import os\n",
    "    import pickle\n",
    "    os.makedirs(path, exist_ok=True) # Create the path if it does not exist\n",
    "    df.to_csv(os.path.join(path, f'results_{tag}_nopert.csv'), index=None)\n",
    "    pickle.dump(df, open(os.path.join(path, f'results_{tag}_brim_nopert.pickle'), 'wb'))\n",
    "    \n"
   ]
  },
  {
   "cell_type": "code",
   "execution_count": 22,
   "metadata": {},
   "outputs": [
    {
     "data": {
      "text/html": [
       "<div>\n",
       "<style scoped>\n",
       "    .dataframe tbody tr th:only-of-type {\n",
       "        vertical-align: middle;\n",
       "    }\n",
       "\n",
       "    .dataframe tbody tr th {\n",
       "        vertical-align: top;\n",
       "    }\n",
       "\n",
       "    .dataframe thead th {\n",
       "        text-align: right;\n",
       "    }\n",
       "</style>\n",
       "<table border=\"1\" class=\"dataframe\">\n",
       "  <thead>\n",
       "    <tr style=\"text-align: right;\">\n",
       "      <th></th>\n",
       "      <th>name</th>\n",
       "      <th>graph_idx</th>\n",
       "      <th>adj_rand_index</th>\n",
       "      <th>algo_order</th>\n",
       "    </tr>\n",
       "  </thead>\n",
       "  <tbody>\n",
       "    <tr>\n",
       "      <th>0</th>\n",
       "      <td>WT</td>\n",
       "      <td>30</td>\n",
       "      <td>0.348826</td>\n",
       "      <td>1</td>\n",
       "    </tr>\n",
       "    <tr>\n",
       "      <th>1</th>\n",
       "      <td>WT</td>\n",
       "      <td>29</td>\n",
       "      <td>0.369622</td>\n",
       "      <td>1</td>\n",
       "    </tr>\n",
       "    <tr>\n",
       "      <th>2</th>\n",
       "      <td>WT</td>\n",
       "      <td>1</td>\n",
       "      <td>0.387817</td>\n",
       "      <td>1</td>\n",
       "    </tr>\n",
       "    <tr>\n",
       "      <th>3</th>\n",
       "      <td>WT</td>\n",
       "      <td>2</td>\n",
       "      <td>0.338114</td>\n",
       "      <td>1</td>\n",
       "    </tr>\n",
       "    <tr>\n",
       "      <th>4</th>\n",
       "      <td>WT</td>\n",
       "      <td>3</td>\n",
       "      <td>0.715642</td>\n",
       "      <td>1</td>\n",
       "    </tr>\n",
       "  </tbody>\n",
       "</table>\n",
       "</div>"
      ],
      "text/plain": [
       "  name  graph_idx  adj_rand_index  algo_order\n",
       "0   WT         30        0.348826           1\n",
       "1   WT         29        0.369622           1\n",
       "2   WT          1        0.387817           1\n",
       "3   WT          2        0.338114           1\n",
       "4   WT          3        0.715642           1"
      ]
     },
     "execution_count": 22,
     "metadata": {},
     "output_type": "execute_result"
    }
   ],
   "source": [
    "# Extract best solutions for each graph/algorithm pair\n",
    "from moo.contestant import get_best_community_solutions, draw_best_community_solutions\n",
    "best_solutions = get_best_community_solutions(df)\n",
    "# Optional: Sort algorithms to match algorithm order in paper figures\n",
    "# algo_order = {'walktrap':1, 'fastgreedy':2, 'edgebetweenness':3, 'multilevel':4, 'brim':5, 'multicriteria_3d':5, 'multicriteria_2d':6}\n",
    "algo_order = {'WT':1, 'FG':2, 'CE':3, 'ML':4, 'BRIM':5, '3d':6, '2d':7} # DEfine required order here\n",
    "best_solutions['algo_order'] = best_solutions.name.map(algo_order)\n",
    "best_solutions.sort_values(by=['algo_order'], axis=0, ascending=True, inplace=True, ignore_index=True)\n",
    "best_solutions.head()"
   ]
  },
  {
   "cell_type": "code",
   "execution_count": 23,
   "metadata": {},
   "outputs": [
    {
     "data": {
      "text/plain": [
       "(0.0, 1.0)"
      ]
     },
     "execution_count": 23,
     "metadata": {},
     "output_type": "execute_result"
    },
    {
     "data": {
      "image/png": "[encoded data removed]",
      "text/plain": [
       "<Figure size 720x720 with 1 Axes>"
      ]
     },
     "metadata": {
      "needs_background": "light"
     },
     "output_type": "display_data"
    }
   ],
   "source": [
    "# Plot results\n",
    "import matplotlib.pyplot as plt\n",
    "from moo.contestant import draw_best_community_solutions\n",
    "fix, ax = plt.subplots(figsize=(10,10))\n",
    "ax, stats = draw_best_community_solutions(best_solutions, ax)\n",
    "ax.set_title(\"Fig 05 community detection, no perturbation\")\n",
    "ax.set_xlabel(\"\")\n",
    "ax.set_ylabel(\"Adjusted Rand Index\")\n",
    "ax.grid(axis='y', color = 'green', linestyle = '--', linewidth = 0.5)\n",
    "min_y = min(df.adj_rand_index.min(), 0) -0.1 # Accounts for BRIM results\n",
    "ax.set_ylim(min_y,1.1)\n",
    "\n"
   ]
  },
  {
   "cell_type": "markdown",
   "metadata": {},
   "source": [
    "## Load and plot results\n",
    "- Assumes results are generated ans stored in path"
   ]
  },
  {
   "cell_type": "code",
   "execution_count": 55,
   "metadata": {},
   "outputs": [
    {
     "data": {
      "image/png": "[encoded data removed]",
      "text/plain": [
       "<Figure size 720x720 with 1 Axes>"
      ]
     },
     "metadata": {
      "needs_background": "light"
     },
     "output_type": "display_data"
    },
    {
     "data": {
      "image/png": "[encoded data removed]",
      "text/plain": [
       "<Figure size 720x720 with 1 Axes>"
      ]
     },
     "metadata": {
      "needs_background": "light"
     },
     "output_type": "display_data"
    },
    {
     "data": {
      "image/png": "[encoded data removed]",
      "text/plain": [
       "<Figure size 720x720 with 1 Axes>"
      ]
     },
     "metadata": {
      "needs_background": "light"
     },
     "output_type": "display_data"
    },
    {
     "data": {
      "image/png": "[encoded data removed]",
      "text/plain": [
       "<Figure size 720x720 with 1 Axes>"
      ]
     },
     "metadata": {
      "needs_background": "light"
     },
     "output_type": "display_data"
    },
    {
     "data": {
      "image/png": "[encoded data removed]",
      "text/plain": [
       "<Figure size 720x720 with 1 Axes>"
      ]
     },
     "metadata": {
      "needs_background": "light"
     },
     "output_type": "display_data"
    },
    {
     "data": {
      "image/png": "[encoded data removed]",
      "text/plain": [
       "<Figure size 720x720 with 1 Axes>"
      ]
     },
     "metadata": {
      "needs_background": "light"
     },
     "output_type": "display_data"
    }
   ],
   "source": [
    "import pandas as pd\n",
    "import matplotlib.pyplot as plt\n",
    "from moo.contestant import get_best_community_solutions, draw_best_community_solutions\n",
    "\n",
    "tags = ['fig05', 'fig06', 'fig07', 'fig08', 'fig09_a', 'fig09_b']\n",
    "path = './_temp'\n",
    "shuffle = False\n",
    "\n",
    "for tag in tags:\n",
    "    pert='pert' if shuffle else 'nopert'\n",
    "    df = pd.read_csv(os.path.join(path, f'results_{tag}_{pert}.csv'))\n",
    "    best_solutions = get_best_community_solutions(df) # Extract best solutions for each graph/algorithm pair\n",
    "    # Optional: Sort algorithms to match algorithm order in paper figures\n",
    "    # algo_order = {'walktrap':1, 'fastgreedy':2, 'edgebetweenness':3, 'multilevel':4, 'brim':5, 'multicriteria_3d':5, 'multicriteria_2d':6}\n",
    "    algo_order = {'WT':1, 'FG':2, 'CE':3, 'ML':4, 'BRIM':5, '3d':6, '2d':7} # DEfine required order here\n",
    "    best_solutions['algo_order'] = best_solutions.name.map(algo_order)\n",
    "    best_solutions.sort_values(by=['algo_order'], axis=0, ascending=True, inplace=True, ignore_index=True)\n",
    "    fig, ax = plt.subplots(figsize=(10,10))\n",
    "    ax, stats = draw_best_community_solutions(best_solutions, ax)\n",
    "    ax.set_title(f\"{tag} community detection. Perturbation: {shuffle}\")\n",
    "    ax.set_xlabel(\"\")\n",
    "    ax.set_ylabel(\"Adjusted Rand Index\")\n",
    "    ax.grid(axis='y', color = 'green', linestyle = '--', linewidth = 0.5)\n",
    "    min_y = min(df.adj_rand_index.min(), 0) -0.1 # Accounts for BRIM results\n",
    "    ax.set_ylim(min_y,1.1)\n",
    "    fig.savefig(os.path.join(path, f'results_{tag}_{pert}.pdf'))\n",
    "\n"
   ]
  },
  {
   "cell_type": "markdown",
   "metadata": {},
   "source": [
    "## Fig 07 results plotting"
   ]
  },
  {
   "cell_type": "code",
   "execution_count": 11,
   "metadata": {},
   "outputs": [
    {
     "name": "stdout",
     "output_type": "stream",
     "text": [
      "<DataGenerator: ExpConfig: L=10, U=50, NumNodes=60, NumEdges=100, ML=0.5, MU=0.5, BC=0.1, NumGraphs=30, shuffle=False, seed=42>\n"
     ]
    }
   ],
   "source": [
    "# Regenerate Fig 07 using old code --> generate data\n",
    "expgen = DataGenerator(expconfig=fig07_expconfig)\n",
    "print(expgen)\n",
    "datagen = expgen.generate_data() # datagen is an iterator\n",
    "\n",
    "# Generate and save results\n",
    "from moo.utils import save_graphs_to_path\n",
    "path =\"./_temp/fig07_data_1_nonshuffled/\"\n",
    "os.makedirs(path, exist_ok=True)\n",
    "save_graphs_to_path(path, datagen)\n",
    "\n",
    "\n"
   ]
  },
  {
   "cell_type": "code",
   "execution_count": 5,
   "metadata": {},
   "outputs": [],
   "source": [
    "# Run legacy 3d and 2d code...\n",
    "# Please run multicriterion_3d.py and multicriterion_2d.py to generate results"
   ]
  },
  {
   "cell_type": "code",
   "execution_count": 4,
   "metadata": {},
   "outputs": [
    {
     "data": {
      "image/png": "[encoded data removed]",
      "text/plain": [
       "<Figure size 720x720 with 1 Axes>"
      ]
     },
     "metadata": {
      "needs_background": "light"
     },
     "output_type": "display_data"
    }
   ],
   "source": [
    "# load/plot results\n",
    "import pandas as pd\n",
    "import matplotlib.pyplot as plt\n",
    "from moo.contestant import get_best_community_solutions, draw_best_community_solutions\n",
    "path = './_temp/'\n",
    "shuffle = False\n",
    "df2 = pd.read_csv(os.path.join(path, 'fig_07_nopert_2d.csv'))\n",
    "df3 = pd.read_csv(os.path.join(path, 'fig_07_nopert_3d.csv'))\n",
    "df = pd.concat([df2,df3], axis=0, ignore_index=True)\n",
    "\n",
    "best_solutions = get_best_community_solutions(df) # Extract best solutions for each graph/algorithm pair\n",
    "# Optional: Sort algorithms to match algorithm order in paper figures\n",
    "# algo_order = {'walktrap':1, 'fastgreedy':2, 'edgebetweenness':3, 'multilevel':4, 'brim':5, 'multicriteria_3d':5, 'multicriteria_2d':6}\n",
    "algo_order = {'WT':1, 'FG':2, 'CE':3, 'ML':4, 'BRIM':5, '3d':6, '2d':7} # DEfine required order here\n",
    "best_solutions['algo_order'] = best_solutions.name.map(algo_order)\n",
    "best_solutions.sort_values(by=['algo_order'], axis=0, ascending=True, inplace=True, ignore_index=True)\n",
    "fig, ax = plt.subplots(figsize=(10,10))\n",
    "ax, stats = draw_best_community_solutions(best_solutions, ax)\n",
    "ax.set_title(f'Fig 07 results, legacy code. Perturbation: {shuffle}')\n",
    "ax.set_xlabel(\"\")\n",
    "ax.set_ylabel(\"Adjusted Rand Index\")\n",
    "ax.grid(axis='y', color = 'green', linestyle = '--', linewidth = 0.5)\n",
    "min_y = min(df.adj_rand_index.min(), 0) -0.1 # Accounts for BRIM results\n",
    "ax.set_ylim(min_y,1.1)\n",
    "fig.savefig(os.path.join(path, 'Fig 07 results, legacy code.pdf'))"
   ]
  }
 ],
 "metadata": {
  "kernelspec": {
   "display_name": "Python 3",
   "language": "python",
   "name": "python3"
  },
  "language_info": {
   "codemirror_mode": {
    "name": "ipython",
    "version": 3
   },
   "file_extension": ".py",
   "mimetype": "text/x-python",
   "name": "python",
   "nbconvert_exporter": "python",
   "pygments_lexer": "ipython3",
   "version": "3.8.5"
  }
 },
 "nbformat": 4,
 "nbformat_minor": 4
}
