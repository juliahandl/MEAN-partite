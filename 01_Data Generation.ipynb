{
 "cells": [
  {
   "cell_type": "markdown",
   "metadata": {},
   "source": [
    "# Data Generation examples\n",
    "- This notebook shows how to use this package, and more specifically part 1 (Data Generation)\n",
    "- Please check other notebooks for other parts (contestants and multi-criteria approach)"
   ]
  },
  {
   "cell_type": "markdown",
   "metadata": {},
   "source": [
    "## Data Generation\n",
    "- Generating data (graphs) following a set of parameters and displaying summaries"
   ]
  },
  {
   "cell_type": "code",
   "execution_count": 17,
   "metadata": {},
   "outputs": [
    {
     "name": "stdout",
     "output_type": "stream",
     "text": [
      "The autoreload extension is already loaded. To reload it, use:\n",
      "  %reload_ext autoreload\n"
     ]
    }
   ],
   "source": [
    "%load_ext autoreload\n",
    "%autoreload 2\n",
    "import igraph\n",
    "from moo.data_generation import ExpConfig, DataGenerator"
   ]
  },
  {
   "cell_type": "code",
   "execution_count": 18,
   "metadata": {},
   "outputs": [
    {
     "name": "stdout",
     "output_type": "stream",
     "text": [
      "<ExpConfig: L=100, U=500, NumNodes=600, NumEdges=1000, ML=0.4, MU=0.4, BC=0.1, NumGraphs=30, shuffle=True, seed=42>\n"
     ]
    }
   ],
   "source": [
    "# Define an experiment configuration instance (parameters for data generation)\n",
    "expconfig = ExpConfig(\n",
    "    L=100, U=500,\n",
    "    NumEdges=1000, ML=0.4, MU=0.4,\n",
    "    BC=0.1, NumGraphs=30,\n",
    "    shuffle=True, # Shuffle labels (or no)\n",
    "    seed=None # For reproducibility (this is the default, but can be changed)\n",
    "    )\n",
    "print(expconfig) # Print parameters, or access individually, e.g., expconfig.NumEdges"
   ]
  },
  {
   "cell_type": "code",
   "execution_count": 19,
   "metadata": {},
   "outputs": [
    {
     "name": "stdout",
     "output_type": "stream",
     "text": [
      "<DataGenerator: ExpConfig: L=100, U=500, NumNodes=600, NumEdges=1000, ML=0.4, MU=0.4, BC=0.1, NumGraphs=30, shuffle=True, seed=42>\n"
     ]
    }
   ],
   "source": [
    "# Generate data following the defined experiment confguration\n",
    "expgen = DataGenerator(expconfig=expconfig) # Pass defined parameters\n",
    "print(expgen)\n",
    "datagen = expgen.generate_data() # datagen is an iterator"
   ]
  },
  {
   "cell_type": "code",
   "execution_count": 20,
   "metadata": {},
   "outputs": [
    {
     "name": "stdout",
     "output_type": "stream",
     "text": [
      "\n",
      "Graph 1 out of f30\n",
      "IGRAPH U--T 534 1000 -- \n",
      "+ attr: GT (v), VX (v), type (v)\n",
      "\n",
      "Graph 2 out of f30\n",
      "IGRAPH U--T 520 1000 -- \n",
      "+ attr: GT (v), VX (v), type (v)\n",
      "\n",
      "Graph 3 out of f30\n",
      "IGRAPH U--T 518 1000 -- \n",
      "+ attr: GT (v), VX (v), type (v)\n",
      "\n",
      "Graph 4 out of f30\n",
      "IGRAPH U--T 524 1000 -- \n",
      "+ attr: GT (v), VX (v), type (v)\n",
      "\n",
      "Graph 5 out of f30\n",
      "IGRAPH U--T 528 1000 -- \n",
      "+ attr: GT (v), VX (v), type (v)\n",
      "\n",
      "Graph 6 out of f30\n",
      "IGRAPH U--T 529 1000 -- \n",
      "+ attr: GT (v), VX (v), type (v)\n",
      "\n",
      "Graph 7 out of f30\n",
      "IGRAPH U--T 522 1000 -- \n",
      "+ attr: GT (v), VX (v), type (v)\n",
      "\n",
      "Graph 8 out of f30\n",
      "IGRAPH U--T 525 1000 -- \n",
      "+ attr: GT (v), VX (v), type (v)\n",
      "\n",
      "Graph 9 out of f30\n",
      "IGRAPH U--T 531 1000 -- \n",
      "+ attr: GT (v), VX (v), type (v)\n",
      "\n",
      "Graph 10 out of f30\n",
      "IGRAPH U--T 519 1000 -- \n",
      "+ attr: GT (v), VX (v), type (v)\n",
      "\n",
      "Graph 11 out of f30\n",
      "IGRAPH U--T 523 1000 -- \n",
      "+ attr: GT (v), VX (v), type (v)\n",
      "\n",
      "Graph 12 out of f30\n",
      "IGRAPH U--T 530 1000 -- \n",
      "+ attr: GT (v), VX (v), type (v)\n",
      "\n",
      "Graph 13 out of f30\n",
      "IGRAPH U--T 537 1000 -- \n",
      "+ attr: GT (v), VX (v), type (v)\n",
      "\n",
      "Graph 14 out of f30\n",
      "IGRAPH U--T 536 1000 -- \n",
      "+ attr: GT (v), VX (v), type (v)\n",
      "\n",
      "Graph 15 out of f30\n",
      "IGRAPH U--T 532 1000 -- \n",
      "+ attr: GT (v), VX (v), type (v)\n",
      "\n",
      "Graph 16 out of f30\n",
      "IGRAPH U--T 526 1000 -- \n",
      "+ attr: GT (v), VX (v), type (v)\n",
      "\n",
      "Graph 17 out of f30\n",
      "IGRAPH U--T 520 1000 -- \n",
      "+ attr: GT (v), VX (v), type (v)\n",
      "\n",
      "Graph 18 out of f30\n",
      "IGRAPH U--T 522 1000 -- \n",
      "+ attr: GT (v), VX (v), type (v)\n",
      "\n",
      "Graph 19 out of f30\n",
      "IGRAPH U--T 516 1000 -- \n",
      "+ attr: GT (v), VX (v), type (v)\n",
      "\n",
      "Graph 20 out of f30\n",
      "IGRAPH U--T 519 1000 -- \n",
      "+ attr: GT (v), VX (v), type (v)\n",
      "\n",
      "Graph 21 out of f30\n",
      "IGRAPH U--T 520 1000 -- \n",
      "+ attr: GT (v), VX (v), type (v)\n",
      "\n",
      "Graph 22 out of f30\n",
      "IGRAPH U--T 530 1000 -- \n",
      "+ attr: GT (v), VX (v), type (v)\n",
      "\n",
      "Graph 23 out of f30\n",
      "IGRAPH U--T 515 1000 -- \n",
      "+ attr: GT (v), VX (v), type (v)\n",
      "\n",
      "Graph 24 out of f30\n",
      "IGRAPH U--T 530 1000 -- \n",
      "+ attr: GT (v), VX (v), type (v)\n",
      "\n",
      "Graph 25 out of f30\n",
      "IGRAPH U--T 525 1000 -- \n",
      "+ attr: GT (v), VX (v), type (v)\n",
      "\n",
      "Graph 26 out of f30\n",
      "IGRAPH U--T 525 1000 -- \n",
      "+ attr: GT (v), VX (v), type (v)\n",
      "\n",
      "Graph 27 out of f30\n",
      "IGRAPH U--T 525 1000 -- \n",
      "+ attr: GT (v), VX (v), type (v)\n",
      "\n",
      "Graph 28 out of f30\n",
      "IGRAPH U--T 524 1000 -- \n",
      "+ attr: GT (v), VX (v), type (v)\n",
      "\n",
      "Graph 29 out of f30\n",
      "IGRAPH U--T 524 1000 -- \n",
      "+ attr: GT (v), VX (v), type (v)\n",
      "\n",
      "Graph 30 out of f30\n",
      "IGRAPH U--T 526 1000 -- \n",
      "+ attr: GT (v), VX (v), type (v)\n"
     ]
    }
   ],
   "source": [
    "# Iterate through the generates data (graphs)\n",
    "# Possible usages include saving to disk, visualizing, feeding to downstream steps, etc.\n",
    "for idx, graph in enumerate(datagen):\n",
    "    # Save graphs, visualize, etc.\n",
    "    # Here, I print the graph summary\n",
    "    print(f'\\nGraph {idx+1} out of f{expconfig.NumGraphs}')\n",
    "    igraph.summary(graph)"
   ]
  },
  {
   "cell_type": "code",
   "execution_count": null,
   "metadata": {},
   "outputs": [],
   "source": []
  }
 ],
 "metadata": {
  "interpreter": {
   "hash": "4010bed1fcb0862f42163a0bc1f27209410c0108b991885a63b56f46dfb0bc2b"
  },
  "kernelspec": {
   "display_name": "Python 3.8.5 64-bit (system)",
   "language": "python",
   "name": "python3"
  },
  "language_info": {
   "codemirror_mode": {
    "name": "ipython",
    "version": 3
   },
   "file_extension": ".py",
   "mimetype": "text/x-python",
   "name": "python",
   "nbconvert_exporter": "python",
   "pygments_lexer": "ipython3",
   "version": "3.8.5"
  },
  "orig_nbformat": 4
 },
 "nbformat": 4,
 "nbformat_minor": 2
}
